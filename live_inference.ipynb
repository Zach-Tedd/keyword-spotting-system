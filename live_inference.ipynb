{
 "cells": [
  {
   "cell_type": "code",
   "execution_count": 5,
   "id": "b709fcc8-4c4b-47c2-bd0b-c73ad61c55ec",
   "metadata": {},
   "outputs": [
    {
     "name": "stdout",
     "output_type": "stream",
     "text": [
      "Collecting sounddevice\n",
      "  Using cached sounddevice-0.5.2-py3-none-win_amd64.whl.metadata (1.6 kB)\n",
      "Requirement already satisfied: webrtcvad-wheels in c:\\users\\user\\desktop\\kws_system\\env\\lib\\site-packages (2.0.14)\n",
      "Requirement already satisfied: librosa in c:\\users\\user\\desktop\\kws_system\\env\\lib\\site-packages (0.11.0)\n",
      "Requirement already satisfied: CFFI>=1.0 in c:\\users\\user\\desktop\\kws_system\\env\\lib\\site-packages (from sounddevice) (1.17.1)\n",
      "Requirement already satisfied: audioread>=2.1.9 in c:\\users\\user\\desktop\\kws_system\\env\\lib\\site-packages (from librosa) (3.0.1)\n",
      "Requirement already satisfied: numba>=0.51.0 in c:\\users\\user\\desktop\\kws_system\\env\\lib\\site-packages (from librosa) (0.61.2)\n",
      "Requirement already satisfied: numpy>=1.22.3 in c:\\users\\user\\desktop\\kws_system\\env\\lib\\site-packages (from librosa) (2.2.5)\n",
      "Requirement already satisfied: scipy>=1.6.0 in c:\\users\\user\\desktop\\kws_system\\env\\lib\\site-packages (from librosa) (1.15.3)\n",
      "Requirement already satisfied: scikit-learn>=1.1.0 in c:\\users\\user\\desktop\\kws_system\\env\\lib\\site-packages (from librosa) (1.6.1)\n",
      "Requirement already satisfied: joblib>=1.0 in c:\\users\\user\\desktop\\kws_system\\env\\lib\\site-packages (from librosa) (1.4.2)\n",
      "Requirement already satisfied: decorator>=4.3.0 in c:\\users\\user\\desktop\\kws_system\\env\\lib\\site-packages (from librosa) (5.1.1)\n",
      "Requirement already satisfied: soundfile>=0.12.1 in c:\\users\\user\\desktop\\kws_system\\env\\lib\\site-packages (from librosa) (0.13.1)\n",
      "Requirement already satisfied: pooch>=1.1 in c:\\users\\user\\desktop\\kws_system\\env\\lib\\site-packages (from librosa) (1.8.2)\n",
      "Requirement already satisfied: soxr>=0.3.2 in c:\\users\\user\\desktop\\kws_system\\env\\lib\\site-packages (from librosa) (0.5.0.post1)\n",
      "Requirement already satisfied: typing_extensions>=4.1.1 in c:\\users\\user\\desktop\\kws_system\\env\\lib\\site-packages (from librosa) (4.12.2)\n",
      "Requirement already satisfied: lazy_loader>=0.1 in c:\\users\\user\\desktop\\kws_system\\env\\lib\\site-packages (from librosa) (0.4)\n",
      "Requirement already satisfied: msgpack>=1.0 in c:\\users\\user\\desktop\\kws_system\\env\\lib\\site-packages (from librosa) (1.1.0)\n",
      "Requirement already satisfied: standard-aifc in c:\\users\\user\\desktop\\kws_system\\env\\lib\\site-packages (from librosa) (3.13.0)\n",
      "Requirement already satisfied: standard-sunau in c:\\users\\user\\desktop\\kws_system\\env\\lib\\site-packages (from librosa) (3.13.0)\n",
      "Requirement already satisfied: pycparser in c:\\users\\user\\desktop\\kws_system\\env\\lib\\site-packages (from CFFI>=1.0->sounddevice) (2.21)\n",
      "Requirement already satisfied: packaging in c:\\users\\user\\desktop\\kws_system\\env\\lib\\site-packages (from lazy_loader>=0.1->librosa) (24.2)\n",
      "Requirement already satisfied: llvmlite<0.45,>=0.44.0dev0 in c:\\users\\user\\desktop\\kws_system\\env\\lib\\site-packages (from numba>=0.51.0->librosa) (0.44.0)\n",
      "Requirement already satisfied: platformdirs>=2.5.0 in c:\\users\\user\\desktop\\kws_system\\env\\lib\\site-packages (from pooch>=1.1->librosa) (4.3.7)\n",
      "Requirement already satisfied: requests>=2.19.0 in c:\\users\\user\\desktop\\kws_system\\env\\lib\\site-packages (from pooch>=1.1->librosa) (2.32.3)\n",
      "Requirement already satisfied: charset-normalizer<4,>=2 in c:\\users\\user\\desktop\\kws_system\\env\\lib\\site-packages (from requests>=2.19.0->pooch>=1.1->librosa) (3.3.2)\n",
      "Requirement already satisfied: idna<4,>=2.5 in c:\\users\\user\\desktop\\kws_system\\env\\lib\\site-packages (from requests>=2.19.0->pooch>=1.1->librosa) (3.7)\n",
      "Requirement already satisfied: urllib3<3,>=1.21.1 in c:\\users\\user\\desktop\\kws_system\\env\\lib\\site-packages (from requests>=2.19.0->pooch>=1.1->librosa) (2.3.0)\n",
      "Requirement already satisfied: certifi>=2017.4.17 in c:\\users\\user\\desktop\\kws_system\\env\\lib\\site-packages (from requests>=2.19.0->pooch>=1.1->librosa) (2025.4.26)\n",
      "Requirement already satisfied: threadpoolctl>=3.1.0 in c:\\users\\user\\desktop\\kws_system\\env\\lib\\site-packages (from scikit-learn>=1.1.0->librosa) (3.5.0)\n",
      "Requirement already satisfied: standard-chunk in c:\\users\\user\\desktop\\kws_system\\env\\lib\\site-packages (from standard-aifc->librosa) (3.13.0)\n",
      "Requirement already satisfied: audioop-lts in c:\\users\\user\\desktop\\kws_system\\env\\lib\\site-packages (from standard-aifc->librosa) (0.2.1)\n",
      "Using cached sounddevice-0.5.2-py3-none-win_amd64.whl (363 kB)\n",
      "Installing collected packages: sounddevice\n",
      "Successfully installed sounddevice-0.5.2\n"
     ]
    }
   ],
   "source": [
    "!pip install sounddevice webrtcvad-wheels librosa"
   ]
  },
  {
   "cell_type": "code",
   "execution_count": 1,
   "id": "4ef8567b-bb87-4484-acfa-1bbd3015f80a",
   "metadata": {},
   "outputs": [
    {
     "name": "stderr",
     "output_type": "stream",
     "text": [
      "C:\\Users\\USER\\AppData\\Local\\Temp\\ipykernel_18268\\1458955591.py:38: FutureWarning: You are using `torch.load` with `weights_only=False` (the current default value), which uses the default pickle module implicitly. It is possible to construct malicious pickle data which will execute arbitrary code during unpickling (See https://github.com/pytorch/pytorch/blob/main/SECURITY.md#untrusted-models for more details). In a future release, the default value for `weights_only` will be flipped to `True`. This limits the functions that could be executed during unpickling. Arbitrary objects will no longer be allowed to be loaded via this mode unless they are explicitly allowlisted by the user via `torch.serialization.add_safe_globals`. We recommend you start setting `weights_only=True` for any use case where you don't have full control of the loaded file. Please open an issue on GitHub for any issues related to this experimental feature.\n",
      "  model.load_state_dict(torch.load(\"best_model.pth\", map_location=device))\n"
     ]
    },
    {
     "name": "stdout",
     "output_type": "stream",
     "text": [
      "🎙️ Listening... Speak a keyword\n",
      ">>> Predicted: left\n",
      "input overflow\n",
      ">>> Predicted: left\n",
      ">>> Predicted: right\n",
      ">>> Predicted: no\n",
      ">>> Predicted: down\n",
      ">>> Predicted: no\n",
      ">>> Predicted: go\n",
      ">>> Predicted: on\n",
      ">>> Predicted: off\n",
      ">>> Predicted: stop\n",
      ">>> Predicted: off\n",
      ">>> Predicted: down\n",
      ">>> Predicted: up\n",
      ">>> Predicted: down\n",
      ">>> Predicted: left\n",
      ">>> Predicted: yes\n"
     ]
    },
    {
     "ename": "KeyboardInterrupt",
     "evalue": "",
     "output_type": "error",
     "traceback": [
      "\u001b[31m---------------------------------------------------------------------------\u001b[39m",
      "\u001b[31mKeyboardInterrupt\u001b[39m                         Traceback (most recent call last)",
      "\u001b[36mCell\u001b[39m\u001b[36m \u001b[39m\u001b[32mIn[1]\u001b[39m\u001b[32m, line 92\u001b[39m\n\u001b[32m     90\u001b[39m \u001b[38;5;28;01mwith\u001b[39;00m sd.InputStream(channels=\u001b[32m1\u001b[39m, samplerate=sr, callback=callback, blocksize=chunk_size):\n\u001b[32m     91\u001b[39m     \u001b[38;5;28;01mwhile\u001b[39;00m \u001b[38;5;28;01mTrue\u001b[39;00m:\n\u001b[32m---> \u001b[39m\u001b[32m92\u001b[39m         sd.sleep(\u001b[32m1000\u001b[39m)\n",
      "\u001b[36mFile \u001b[39m\u001b[32m~\\Desktop\\KWS_SYSTEM\\env\\Lib\\site-packages\\sounddevice.py:712\u001b[39m, in \u001b[36msleep\u001b[39m\u001b[34m(msec)\u001b[39m\n\u001b[32m    705\u001b[39m \u001b[38;5;28;01mdef\u001b[39;00m\u001b[38;5;250m \u001b[39m\u001b[34msleep\u001b[39m(msec):\n\u001b[32m    706\u001b[39m \u001b[38;5;250m    \u001b[39m\u001b[33;03m\"\"\"Put the caller to sleep for at least *msec* milliseconds.\u001b[39;00m\n\u001b[32m    707\u001b[39m \n\u001b[32m    708\u001b[39m \u001b[33;03m    The function may sleep longer than requested so don't rely on this\u001b[39;00m\n\u001b[32m    709\u001b[39m \u001b[33;03m    for accurate musical timing.\u001b[39;00m\n\u001b[32m    710\u001b[39m \n\u001b[32m    711\u001b[39m \u001b[33;03m    \"\"\"\u001b[39;00m\n\u001b[32m--> \u001b[39m\u001b[32m712\u001b[39m     _lib.Pa_Sleep(msec)\n",
      "\u001b[31mKeyboardInterrupt\u001b[39m: "
     ]
    }
   ],
   "source": [
    "import sounddevice as sd\n",
    "import numpy as np\n",
    "import webrtcvad\n",
    "import librosa\n",
    "import torch\n",
    "import torch.nn.functional as F\n",
    "from scipy.signal import resample\n",
    "\n",
    "# --- Model definition (same as training) ---\n",
    "class SimpleCNN(torch.nn.Module):\n",
    "    def __init__(self, input_shape=(1, 13, 80), num_classes=10):\n",
    "        super(SimpleCNN, self).__init__()\n",
    "        self.conv1 = torch.nn.Conv2d(1, 16, kernel_size=3, padding=1)\n",
    "        self.conv2 = torch.nn.Conv2d(16, 32, kernel_size=3, padding=1)\n",
    "        self.pool = torch.nn.MaxPool2d(2)\n",
    "        self.dropout = torch.nn.Dropout(0.3)\n",
    "        self.flatten_dim = self._get_flatten_size(input_shape)\n",
    "        self.fc1 = torch.nn.Linear(self.flatten_dim, 128)\n",
    "        self.fc2 = torch.nn.Linear(128, num_classes)\n",
    "\n",
    "    def _get_flatten_size(self, shape):\n",
    "        with torch.no_grad():\n",
    "            x = torch.zeros(1, *shape)\n",
    "            x = self.pool(F.relu(self.conv1(x)))\n",
    "            x = self.pool(F.relu(self.conv2(x)))\n",
    "            return x.view(1, -1).shape[1]\n",
    "\n",
    "    def forward(self, x):\n",
    "        x = self.pool(F.relu(self.conv1(x)))\n",
    "        x = self.pool(F.relu(self.conv2(x)))\n",
    "        x = x.view(x.size(0), -1)\n",
    "        x = self.dropout(F.relu(self.fc1(x)))\n",
    "        return self.fc2(x)\n",
    "\n",
    "# --- Load model ---\n",
    "device = torch.device(\"cuda\" if torch.cuda.is_available() else \"cpu\")\n",
    "model = SimpleCNN(input_shape=(1, 13, 80), num_classes=10).to(device)\n",
    "model.load_state_dict(torch.load(\"best_model.pth\", map_location=device))\n",
    "model.eval()\n",
    "\n",
    "# --- Label map (order must match training) ---\n",
    "labels = ['down', 'go', 'left', 'no', 'off', 'on', 'right', 'stop', 'up', 'yes']\n",
    "#labels = ['yes', 'no', 'up', 'down', 'left', 'right', 'on', 'off', 'stop', 'go']\n",
    "\n",
    "# --- VAD and audio settings ---\n",
    "vad = webrtcvad.Vad(0)  # Aggressiveness\n",
    "sr = 16000\n",
    "chunk_duration = 30      # ms\n",
    "chunk_size = int(sr * chunk_duration / 1000)\n",
    "num_chunks = int(1000 / chunk_duration)  # to collect 1 second\n",
    "\n",
    "def is_speech(frame_bytes):\n",
    "    return vad.is_speech(frame_bytes, sample_rate=sr)\n",
    "\n",
    "def get_mfcc(audio):\n",
    "    mfcc = librosa.feature.mfcc(y=audio, sr=sr, n_mfcc=13, n_fft=1024, hop_length=128, win_length=400)\n",
    "    if mfcc.shape[1] < 80:\n",
    "        mfcc = np.pad(mfcc, ((0, 0), (0, 80 - mfcc.shape[1])), mode='constant')\n",
    "    else:\n",
    "        mfcc = mfcc[:, :80]\n",
    "    return mfcc\n",
    "\n",
    "# --- Stream handler ---\n",
    "print(\"🎙️ Listening... Speak a keyword\")\n",
    "\n",
    "buffer = []\n",
    "\n",
    "def callback(indata, frames, time, status):\n",
    "    global buffer\n",
    "    if status:\n",
    "        print(status)\n",
    "\n",
    "    audio = indata[:, 0]\n",
    "    raw_bytes = (audio * 32768).astype(np.int16).tobytes()\n",
    "\n",
    "    if is_speech(raw_bytes):\n",
    "        buffer.extend(audio)\n",
    "    else:\n",
    "        if len(buffer) >= sr:  # at least 1 second of speech\n",
    "            chunk = np.array(buffer[:sr])  # keep 1s\n",
    "            mfcc = get_mfcc(chunk)\n",
    "            x = torch.tensor(mfcc).unsqueeze(0).unsqueeze(0).float().to(device)  # (1, 1, 13, 80)\n",
    "            with torch.no_grad():\n",
    "                output = model(x)\n",
    "                pred = torch.argmax(output, axis=1).item()\n",
    "                print(f\">>> Predicted: {labels[pred]}\")\n",
    "            buffer = []\n",
    "\n",
    "# --- Start Stream ---\n",
    "with sd.InputStream(channels=1, samplerate=sr, callback=callback, blocksize=chunk_size):\n",
    "    while True:\n",
    "        sd.sleep(1000)\n"
   ]
  },
  {
   "cell_type": "code",
   "execution_count": 7,
   "id": "5072a666-d607-418c-993a-652dacab098e",
   "metadata": {},
   "outputs": [],
   "source": [
    "sd.default.device = (1, None)\n"
   ]
  },
  {
   "cell_type": "code",
   "execution_count": 13,
   "id": "02a33b75-7e14-4b74-beac-fe3ebc1e8cb6",
   "metadata": {},
   "outputs": [
    {
     "name": "stdout",
     "output_type": "stream",
     "text": [
      "Recording...\n",
      "Done.\n"
     ]
    },
    {
     "data": {
      "image/png": "[encoded data removed]",
      "text/plain": [
       "<Figure size 640x480 with 1 Axes>"
      ]
     },
     "metadata": {},
     "output_type": "display_data"
    }
   ],
   "source": [
    "import sounddevice as sd\n",
    "import numpy as np\n",
    "import matplotlib.pyplot as plt\n",
    "\n",
    "duration = 2  # record for 1 second\n",
    "sr = 16000\n",
    "\n",
    "print(\"Recording...\")\n",
    "audio = sd.rec(int(sr * duration), samplerate=sr, channels=1)\n",
    "sd.wait()\n",
    "print(\"Done.\")\n",
    "\n",
    "plt.plot(audio)\n",
    "plt.title(\"Recorded waveform\")\n",
    "plt.show()\n"
   ]
  },
  {
   "cell_type": "code",
   "execution_count": null,
   "id": "4bd12db5-900d-4af0-9a2f-f71271f8b061",
   "metadata": {},
   "outputs": [],
   "source": []
  }
 ],
 "metadata": {
  "kernelspec": {
   "display_name": "Python 3 (ipykernel)",
   "language": "python",
   "name": "python3"
  },
  "language_info": {
   "codemirror_mode": {
    "name": "ipython",
    "version": 3
   },
   "file_extension": ".py",
   "mimetype": "text/x-python",
   "name": "python",
   "nbconvert_exporter": "python",
   "pygments_lexer": "ipython3",
   "version": "3.13.2"
  }
 },
 "nbformat": 4,
 "nbformat_minor": 5
}
