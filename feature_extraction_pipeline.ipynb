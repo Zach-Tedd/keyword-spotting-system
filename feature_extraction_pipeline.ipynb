{
 "cells": [
  {
   "cell_type": "code",
   "execution_count": 1,
   "id": "563fc8d3-deb7-4147-acec-f384ca3e6f8a",
   "metadata": {},
   "outputs": [
    {
     "name": "stdout",
     "output_type": "stream",
     "text": [
      "['bed', 'bird', 'cat', 'dog', 'down', 'eight', 'five', 'four', 'go', 'happy']\n"
     ]
    }
   ],
   "source": [
    "import os\n",
    "\n",
    "print(os.listdir(\"data\")[:10])"
   ]
  },
  {
   "cell_type": "code",
   "execution_count": 2,
   "id": "e67b3184-1905-44e3-91e1-57aaf0a1d903",
   "metadata": {},
   "outputs": [
    {
     "name": "stdout",
     "output_type": "stream",
     "text": [
      "Copied: yes\n",
      "Copied: no\n",
      "Copied: up\n",
      "Copied: down\n",
      "Copied: left\n",
      "Copied: right\n",
      "Copied: on\n",
      "Copied: off\n",
      "Copied: stop\n",
      "Copied: go\n"
     ]
    }
   ],
   "source": [
    "import os\n",
    "import shutil\n",
    "source_dir = 'data'\n",
    "target_dir = 'data_clean'\n",
    "os.makedirs(target_dir, exist_ok=True)\n",
    "keywords = ['yes', 'no', 'up', 'down', 'left', 'right', 'on', 'off', 'stop', 'go']\n",
    "for kw in keywords:\n",
    "    src = os.path.join(source_dir, kw)\n",
    "    dst = os.path.join(target_dir, kw)\n",
    "    \n",
    "    if os.path.exists(src):\n",
    "        shutil.copytree(src, dst)\n",
    "        print(f\"Copied: {kw}\")\n",
    "    else:\n",
    "        print(f\"WARNING: '{kw}' not found in source directory!\")"
   ]
  },
  {
   "cell_type": "code",
   "execution_count": 3,
   "id": "f111d8d8-6c37-4158-8e83-1b4ff13f9b6c",
   "metadata": {},
   "outputs": [
    {
     "name": "stdout",
     "output_type": "stream",
     "text": [
      "['down', 'go', 'left', 'no', 'off', 'on', 'right', 'stop', 'up', 'yes']\n"
     ]
    }
   ],
   "source": [
    "print(os.listdir(\"data_clean\")[:10])"
   ]
  },
  {
   "cell_type": "code",
   "execution_count": 4,
   "id": "e582813f-6b8c-4ff5-a99e-d899a6109e07",
   "metadata": {},
   "outputs": [
    {
     "name": "stdout",
     "output_type": "stream",
     "text": [
      "Collecting librosa\n",
      "  Using cached librosa-0.11.0-py3-none-any.whl.metadata (8.7 kB)\n",
      "Collecting soundfile\n",
      "  Using cached soundfile-0.13.1-py2.py3-none-win_amd64.whl.metadata (16 kB)\n",
      "Requirement already satisfied: numpy in c:\\users\\user\\desktop\\kws_system\\env\\lib\\site-packages (2.2.5)\n",
      "Requirement already satisfied: matplotlib in c:\\users\\user\\desktop\\kws_system\\env\\lib\\site-packages (3.10.0)\n",
      "Collecting audioread>=2.1.9 (from librosa)\n",
      "  Using cached audioread-3.0.1-py3-none-any.whl.metadata (8.4 kB)\n",
      "Collecting numba>=0.51.0 (from librosa)\n",
      "  Downloading numba-0.61.2-cp313-cp313-win_amd64.whl.metadata (2.8 kB)\n",
      "Requirement already satisfied: scipy>=1.6.0 in c:\\users\\user\\desktop\\kws_system\\env\\lib\\site-packages (from librosa) (1.15.3)\n",
      "Requirement already satisfied: scikit-learn>=1.1.0 in c:\\users\\user\\desktop\\kws_system\\env\\lib\\site-packages (from librosa) (1.6.1)\n",
      "Requirement already satisfied: joblib>=1.0 in c:\\users\\user\\desktop\\kws_system\\env\\lib\\site-packages (from librosa) (1.4.2)\n",
      "Requirement already satisfied: decorator>=4.3.0 in c:\\users\\user\\desktop\\kws_system\\env\\lib\\site-packages (from librosa) (5.1.1)\n",
      "Collecting pooch>=1.1 (from librosa)\n",
      "  Using cached pooch-1.8.2-py3-none-any.whl.metadata (10 kB)\n",
      "Collecting soxr>=0.3.2 (from librosa)\n",
      "  Using cached soxr-0.5.0.post1-cp312-abi3-win_amd64.whl.metadata (5.6 kB)\n",
      "Requirement already satisfied: typing_extensions>=4.1.1 in c:\\users\\user\\desktop\\kws_system\\env\\lib\\site-packages (from librosa) (4.12.2)\n",
      "Collecting lazy_loader>=0.1 (from librosa)\n",
      "  Using cached lazy_loader-0.4-py3-none-any.whl.metadata (7.6 kB)\n",
      "Collecting msgpack>=1.0 (from librosa)\n",
      "  Downloading msgpack-1.1.0-cp313-cp313-win_amd64.whl.metadata (8.6 kB)\n",
      "Collecting standard-aifc (from librosa)\n",
      "  Downloading standard_aifc-3.13.0-py3-none-any.whl.metadata (969 bytes)\n",
      "Collecting standard-sunau (from librosa)\n",
      "  Downloading standard_sunau-3.13.0-py3-none-any.whl.metadata (914 bytes)\n",
      "Requirement already satisfied: cffi>=1.0 in c:\\users\\user\\desktop\\kws_system\\env\\lib\\site-packages (from soundfile) (1.17.1)\n",
      "Requirement already satisfied: contourpy>=1.0.1 in c:\\users\\user\\desktop\\kws_system\\env\\lib\\site-packages (from matplotlib) (1.3.1)\n",
      "Requirement already satisfied: cycler>=0.10 in c:\\users\\user\\desktop\\kws_system\\env\\lib\\site-packages (from matplotlib) (0.11.0)\n",
      "Requirement already satisfied: fonttools>=4.22.0 in c:\\users\\user\\desktop\\kws_system\\env\\lib\\site-packages (from matplotlib) (4.55.3)\n",
      "Requirement already satisfied: kiwisolver>=1.3.1 in c:\\users\\user\\desktop\\kws_system\\env\\lib\\site-packages (from matplotlib) (1.4.8)\n",
      "Requirement already satisfied: packaging>=20.0 in c:\\users\\user\\desktop\\kws_system\\env\\lib\\site-packages (from matplotlib) (24.2)\n",
      "Requirement already satisfied: pillow>=8 in c:\\users\\user\\desktop\\kws_system\\env\\lib\\site-packages (from matplotlib) (11.1.0)\n",
      "Requirement already satisfied: pyparsing>=2.3.1 in c:\\users\\user\\desktop\\kws_system\\env\\lib\\site-packages (from matplotlib) (3.2.0)\n",
      "Requirement already satisfied: python-dateutil>=2.7 in c:\\users\\user\\desktop\\kws_system\\env\\lib\\site-packages (from matplotlib) (2.9.0.post0)\n",
      "Requirement already satisfied: pycparser in c:\\users\\user\\desktop\\kws_system\\env\\lib\\site-packages (from cffi>=1.0->soundfile) (2.21)\n",
      "Collecting llvmlite<0.45,>=0.44.0dev0 (from numba>=0.51.0->librosa)\n",
      "  Downloading llvmlite-0.44.0-cp313-cp313-win_amd64.whl.metadata (5.0 kB)\n",
      "Requirement already satisfied: platformdirs>=2.5.0 in c:\\users\\user\\desktop\\kws_system\\env\\lib\\site-packages (from pooch>=1.1->librosa) (4.3.7)\n",
      "Requirement already satisfied: requests>=2.19.0 in c:\\users\\user\\desktop\\kws_system\\env\\lib\\site-packages (from pooch>=1.1->librosa) (2.32.3)\n",
      "Requirement already satisfied: six>=1.5 in c:\\users\\user\\desktop\\kws_system\\env\\lib\\site-packages (from python-dateutil>=2.7->matplotlib) (1.17.0)\n",
      "Requirement already satisfied: charset-normalizer<4,>=2 in c:\\users\\user\\desktop\\kws_system\\env\\lib\\site-packages (from requests>=2.19.0->pooch>=1.1->librosa) (3.3.2)\n",
      "Requirement already satisfied: idna<4,>=2.5 in c:\\users\\user\\desktop\\kws_system\\env\\lib\\site-packages (from requests>=2.19.0->pooch>=1.1->librosa) (3.7)\n",
      "Requirement already satisfied: urllib3<3,>=1.21.1 in c:\\users\\user\\desktop\\kws_system\\env\\lib\\site-packages (from requests>=2.19.0->pooch>=1.1->librosa) (2.3.0)\n",
      "Requirement already satisfied: certifi>=2017.4.17 in c:\\users\\user\\desktop\\kws_system\\env\\lib\\site-packages (from requests>=2.19.0->pooch>=1.1->librosa) (2025.4.26)\n",
      "Requirement already satisfied: threadpoolctl>=3.1.0 in c:\\users\\user\\desktop\\kws_system\\env\\lib\\site-packages (from scikit-learn>=1.1.0->librosa) (3.5.0)\n",
      "Collecting standard-chunk (from standard-aifc->librosa)\n",
      "  Downloading standard_chunk-3.13.0-py3-none-any.whl.metadata (860 bytes)\n",
      "Collecting audioop-lts (from standard-aifc->librosa)\n",
      "  Downloading audioop_lts-0.2.1-cp313-abi3-win_amd64.whl.metadata (1.7 kB)\n",
      "Using cached librosa-0.11.0-py3-none-any.whl (260 kB)\n",
      "Using cached soundfile-0.13.1-py2.py3-none-win_amd64.whl (1.0 MB)\n",
      "Using cached audioread-3.0.1-py3-none-any.whl (23 kB)\n",
      "Using cached lazy_loader-0.4-py3-none-any.whl (12 kB)\n",
      "Downloading msgpack-1.1.0-cp313-cp313-win_amd64.whl (75 kB)\n",
      "Downloading numba-0.61.2-cp313-cp313-win_amd64.whl (2.8 MB)\n",
      "   ---------------------------------------- 0.0/2.8 MB ? eta -:--:--\n",
      "   ---------------------------------------- 0.0/2.8 MB ? eta -:--:--\n",
      "   --- ------------------------------------ 0.3/2.8 MB ? eta -:--:--\n",
      "   ----------- ---------------------------- 0.8/2.8 MB 1.5 MB/s eta 0:00:02\n",
      "   ------------------ --------------------- 1.3/2.8 MB 2.3 MB/s eta 0:00:01\n",
      "   ------------------------- -------------- 1.8/2.8 MB 2.3 MB/s eta 0:00:01\n",
      "   --------------------------------- ------ 2.4/2.8 MB 2.5 MB/s eta 0:00:01\n",
      "   ------------------------------------- -- 2.6/2.8 MB 2.2 MB/s eta 0:00:01\n",
      "   ---------------------------------------- 2.8/2.8 MB 2.0 MB/s eta 0:00:00\n",
      "Downloading llvmlite-0.44.0-cp313-cp313-win_amd64.whl (30.3 MB)\n",
      "   ---------------------------------------- 0.0/30.3 MB ? eta -:--:--\n",
      "   ---------------------------------------- 0.0/30.3 MB ? eta -:--:--\n",
      "   ---------------------------------------- 0.3/30.3 MB ? eta -:--:--\n",
      "   ---------------------------------------- 0.3/30.3 MB ? eta -:--:--\n",
      "    --------------------------------------- 0.5/30.3 MB 698.8 kB/s eta 0:00:43\n",
      "   - -------------------------------------- 0.8/30.3 MB 713.4 kB/s eta 0:00:42\n",
      "   - -------------------------------------- 0.8/30.3 MB 713.4 kB/s eta 0:00:42\n",
      "   - -------------------------------------- 1.0/30.3 MB 742.5 kB/s eta 0:00:40\n",
      "   - -------------------------------------- 1.3/30.3 MB 730.7 kB/s eta 0:00:40\n",
      "   - -------------------------------------- 1.3/30.3 MB 730.7 kB/s eta 0:00:40\n",
      "   -- ------------------------------------- 1.6/30.3 MB 742.1 kB/s eta 0:00:39\n",
      "   -- ------------------------------------- 1.8/30.3 MB 750.9 kB/s eta 0:00:38\n",
      "   -- ------------------------------------- 1.8/30.3 MB 750.9 kB/s eta 0:00:38\n",
      "   -- ------------------------------------- 2.1/30.3 MB 751.1 kB/s eta 0:00:38\n",
      "   --- ------------------------------------ 2.4/30.3 MB 755.7 kB/s eta 0:00:38\n",
      "   --- ------------------------------------ 2.4/30.3 MB 755.7 kB/s eta 0:00:38\n",
      "   --- ------------------------------------ 2.6/30.3 MB 761.0 kB/s eta 0:00:37\n",
      "   --- ------------------------------------ 2.9/30.3 MB 764.3 kB/s eta 0:00:36\n",
      "   --- ------------------------------------ 2.9/30.3 MB 764.3 kB/s eta 0:00:36\n",
      "   ---- ----------------------------------- 3.1/30.3 MB 753.0 kB/s eta 0:00:37\n",
      "   ---- ----------------------------------- 3.1/30.3 MB 753.0 kB/s eta 0:00:37\n",
      "   ---- ----------------------------------- 3.4/30.3 MB 743.7 kB/s eta 0:00:37\n",
      "   ---- ----------------------------------- 3.4/30.3 MB 743.7 kB/s eta 0:00:37\n",
      "   ---- ----------------------------------- 3.7/30.3 MB 733.2 kB/s eta 0:00:37\n",
      "   ---- ----------------------------------- 3.7/30.3 MB 733.2 kB/s eta 0:00:37\n",
      "   ----- ---------------------------------- 3.9/30.3 MB 730.7 kB/s eta 0:00:37\n",
      "   ----- ---------------------------------- 4.2/30.3 MB 731.1 kB/s eta 0:00:36\n",
      "   ----- ---------------------------------- 4.2/30.3 MB 731.1 kB/s eta 0:00:36\n",
      "   ----- ---------------------------------- 4.5/30.3 MB 733.9 kB/s eta 0:00:36\n",
      "   ------ --------------------------------- 4.7/30.3 MB 733.8 kB/s eta 0:00:35\n",
      "   ------ --------------------------------- 4.7/30.3 MB 733.8 kB/s eta 0:00:35\n",
      "   ------ --------------------------------- 5.0/30.3 MB 736.9 kB/s eta 0:00:35\n",
      "   ------ --------------------------------- 5.2/30.3 MB 740.4 kB/s eta 0:00:34\n",
      "   ------ --------------------------------- 5.2/30.3 MB 740.4 kB/s eta 0:00:34\n",
      "   ------- -------------------------------- 5.5/30.3 MB 741.7 kB/s eta 0:00:34\n",
      "   ------- -------------------------------- 5.8/30.3 MB 745.6 kB/s eta 0:00:33\n",
      "   ------- -------------------------------- 5.8/30.3 MB 745.6 kB/s eta 0:00:33\n",
      "   ------- -------------------------------- 6.0/30.3 MB 748.1 kB/s eta 0:00:33\n",
      "   -------- ------------------------------- 6.3/30.3 MB 750.0 kB/s eta 0:00:33\n",
      "   -------- ------------------------------- 6.3/30.3 MB 750.0 kB/s eta 0:00:33\n",
      "   -------- ------------------------------- 6.6/30.3 MB 752.1 kB/s eta 0:00:32\n",
      "   -------- ------------------------------- 6.6/30.3 MB 752.1 kB/s eta 0:00:32\n",
      "   -------- ------------------------------- 6.8/30.3 MB 744.1 kB/s eta 0:00:32\n",
      "   --------- ------------------------------ 7.1/30.3 MB 744.3 kB/s eta 0:00:32\n",
      "   --------- ------------------------------ 7.1/30.3 MB 744.3 kB/s eta 0:00:32\n",
      "   --------- ------------------------------ 7.3/30.3 MB 738.8 kB/s eta 0:00:32\n",
      "   --------- ------------------------------ 7.3/30.3 MB 738.8 kB/s eta 0:00:32\n",
      "   ---------- ----------------------------- 7.6/30.3 MB 737.4 kB/s eta 0:00:31\n",
      "   ---------- ----------------------------- 7.9/30.3 MB 736.3 kB/s eta 0:00:31\n",
      "   ---------- ----------------------------- 7.9/30.3 MB 736.3 kB/s eta 0:00:31\n",
      "   ---------- ----------------------------- 8.1/30.3 MB 736.6 kB/s eta 0:00:31\n",
      "   ----------- ---------------------------- 8.4/30.3 MB 737.6 kB/s eta 0:00:30\n",
      "   ----------- ---------------------------- 8.4/30.3 MB 737.6 kB/s eta 0:00:30\n",
      "   ----------- ---------------------------- 8.7/30.3 MB 739.1 kB/s eta 0:00:30\n",
      "   ----------- ---------------------------- 8.9/30.3 MB 740.8 kB/s eta 0:00:29\n",
      "   ----------- ---------------------------- 8.9/30.3 MB 740.8 kB/s eta 0:00:29\n",
      "   ------------ --------------------------- 9.2/30.3 MB 742.4 kB/s eta 0:00:29\n",
      "   ------------ --------------------------- 9.4/30.3 MB 743.9 kB/s eta 0:00:29\n",
      "   ------------ --------------------------- 9.4/30.3 MB 743.9 kB/s eta 0:00:29\n",
      "   ------------ --------------------------- 9.7/30.3 MB 737.9 kB/s eta 0:00:28\n",
      "   ------------- -------------------------- 10.0/30.3 MB 740.6 kB/s eta 0:00:28\n",
      "   ------------- -------------------------- 10.0/30.3 MB 740.6 kB/s eta 0:00:28\n",
      "   ------------- -------------------------- 10.2/30.3 MB 737.0 kB/s eta 0:00:28\n",
      "   ------------- -------------------------- 10.2/30.3 MB 737.0 kB/s eta 0:00:28\n",
      "   ------------- -------------------------- 10.5/30.3 MB 734.3 kB/s eta 0:00:28\n",
      "   ------------- -------------------------- 10.5/30.3 MB 734.3 kB/s eta 0:00:28\n",
      "   -------------- ------------------------- 10.7/30.3 MB 734.0 kB/s eta 0:00:27\n",
      "   -------------- ------------------------- 11.0/30.3 MB 733.5 kB/s eta 0:00:27\n",
      "   -------------- ------------------------- 11.0/30.3 MB 733.5 kB/s eta 0:00:27\n",
      "   -------------- ------------------------- 11.3/30.3 MB 734.7 kB/s eta 0:00:26\n",
      "   --------------- ------------------------ 11.5/30.3 MB 735.7 kB/s eta 0:00:26\n",
      "   --------------- ------------------------ 11.5/30.3 MB 735.7 kB/s eta 0:00:26\n",
      "   --------------- ------------------------ 11.8/30.3 MB 736.4 kB/s eta 0:00:26\n",
      "   --------------- ------------------------ 12.1/30.3 MB 738.3 kB/s eta 0:00:25\n",
      "   ---------------- ----------------------- 12.3/30.3 MB 739.6 kB/s eta 0:00:25\n",
      "   ---------------- ----------------------- 12.3/30.3 MB 739.6 kB/s eta 0:00:25\n",
      "   ---------------- ----------------------- 12.6/30.3 MB 740.8 kB/s eta 0:00:24\n",
      "   ---------------- ----------------------- 12.8/30.3 MB 741.9 kB/s eta 0:00:24\n",
      "   ---------------- ----------------------- 12.8/30.3 MB 741.9 kB/s eta 0:00:24\n",
      "   ----------------- ---------------------- 13.1/30.3 MB 742.9 kB/s eta 0:00:24\n",
      "   ----------------- ---------------------- 13.4/30.3 MB 744.0 kB/s eta 0:00:23\n",
      "   ----------------- ---------------------- 13.6/30.3 MB 744.3 kB/s eta 0:00:23\n",
      "   ----------------- ---------------------- 13.6/30.3 MB 744.3 kB/s eta 0:00:23\n",
      "   ------------------ --------------------- 13.9/30.3 MB 745.4 kB/s eta 0:00:23\n",
      "   ------------------ --------------------- 13.9/30.3 MB 745.4 kB/s eta 0:00:23\n",
      "   ------------------ --------------------- 14.2/30.3 MB 740.4 kB/s eta 0:00:22\n",
      "   ------------------- -------------------- 14.4/30.3 MB 742.4 kB/s eta 0:00:22\n",
      "   ------------------- -------------------- 14.4/30.3 MB 742.4 kB/s eta 0:00:22\n",
      "   ------------------- -------------------- 14.4/30.3 MB 742.4 kB/s eta 0:00:22\n",
      "   ------------------- -------------------- 14.7/30.3 MB 731.6 kB/s eta 0:00:22\n",
      "   ------------------- -------------------- 14.7/30.3 MB 731.6 kB/s eta 0:00:22\n",
      "   ------------------- -------------------- 14.7/30.3 MB 731.6 kB/s eta 0:00:22\n",
      "   ------------------- -------------------- 14.9/30.3 MB 715.8 kB/s eta 0:00:22\n",
      "   ------------------- -------------------- 14.9/30.3 MB 715.8 kB/s eta 0:00:22\n",
      "   ------------------- -------------------- 14.9/30.3 MB 715.8 kB/s eta 0:00:22\n",
      "   -------------------- ------------------- 15.2/30.3 MB 704.1 kB/s eta 0:00:22\n",
      "   -------------------- ------------------- 15.2/30.3 MB 704.1 kB/s eta 0:00:22\n",
      "   -------------------- ------------------- 15.2/30.3 MB 704.1 kB/s eta 0:00:22\n",
      "   -------------------- ------------------- 15.2/30.3 MB 704.1 kB/s eta 0:00:22\n",
      "   -------------------- ------------------- 15.5/30.3 MB 693.0 kB/s eta 0:00:22\n",
      "   -------------------- ------------------- 15.5/30.3 MB 693.0 kB/s eta 0:00:22\n",
      "   -------------------- ------------------- 15.5/30.3 MB 693.0 kB/s eta 0:00:22\n",
      "   -------------------- ------------------- 15.7/30.3 MB 683.4 kB/s eta 0:00:22\n",
      "   -------------------- ------------------- 15.7/30.3 MB 683.4 kB/s eta 0:00:22\n",
      "   -------------------- ------------------- 15.7/30.3 MB 683.4 kB/s eta 0:00:22\n",
      "   --------------------- ------------------ 16.0/30.3 MB 675.1 kB/s eta 0:00:22\n",
      "   --------------------- ------------------ 16.0/30.3 MB 675.1 kB/s eta 0:00:22\n",
      "   --------------------- ------------------ 16.3/30.3 MB 668.4 kB/s eta 0:00:22\n",
      "   --------------------- ------------------ 16.3/30.3 MB 668.4 kB/s eta 0:00:22\n",
      "   --------------------- ------------------ 16.3/30.3 MB 668.4 kB/s eta 0:00:22\n",
      "   --------------------- ------------------ 16.5/30.3 MB 662.4 kB/s eta 0:00:21\n",
      "   --------------------- ------------------ 16.5/30.3 MB 662.4 kB/s eta 0:00:21\n",
      "   ---------------------- ----------------- 16.8/30.3 MB 657.4 kB/s eta 0:00:21\n",
      "   ---------------------- ----------------- 16.8/30.3 MB 657.4 kB/s eta 0:00:21\n",
      "   ---------------------- ----------------- 16.8/30.3 MB 657.4 kB/s eta 0:00:21\n",
      "   ---------------------- ----------------- 17.0/30.3 MB 652.7 kB/s eta 0:00:21\n",
      "   ---------------------- ----------------- 17.0/30.3 MB 652.7 kB/s eta 0:00:21\n",
      "   ---------------------- ----------------- 17.3/30.3 MB 650.7 kB/s eta 0:00:21\n",
      "   ---------------------- ----------------- 17.3/30.3 MB 650.7 kB/s eta 0:00:21\n",
      "   ----------------------- ---------------- 17.6/30.3 MB 650.5 kB/s eta 0:00:20\n",
      "   ----------------------- ---------------- 17.8/30.3 MB 650.8 kB/s eta 0:00:20\n",
      "   ----------------------- ---------------- 17.8/30.3 MB 650.8 kB/s eta 0:00:20\n",
      "   ----------------------- ---------------- 18.1/30.3 MB 652.5 kB/s eta 0:00:19\n",
      "   ------------------------ --------------- 18.4/30.3 MB 654.8 kB/s eta 0:00:19\n",
      "   ------------------------ --------------- 18.6/30.3 MB 658.1 kB/s eta 0:00:18\n",
      "   ------------------------ --------------- 18.9/30.3 MB 661.3 kB/s eta 0:00:18\n",
      "   ------------------------ --------------- 18.9/30.3 MB 661.3 kB/s eta 0:00:18\n",
      "   ------------------------- -------------- 19.1/30.3 MB 662.6 kB/s eta 0:00:17\n",
      "   ------------------------- -------------- 19.1/30.3 MB 662.6 kB/s eta 0:00:17\n",
      "   ------------------------- -------------- 19.4/30.3 MB 663.0 kB/s eta 0:00:17\n",
      "   ------------------------- -------------- 19.4/30.3 MB 663.0 kB/s eta 0:00:17\n",
      "   ------------------------- -------------- 19.7/30.3 MB 662.4 kB/s eta 0:00:17\n",
      "   -------------------------- ------------- 19.9/30.3 MB 662.0 kB/s eta 0:00:16\n",
      "   -------------------------- ------------- 19.9/30.3 MB 662.0 kB/s eta 0:00:16\n",
      "   -------------------------- ------------- 20.2/30.3 MB 661.8 kB/s eta 0:00:16\n",
      "   -------------------------- ------------- 20.2/30.3 MB 661.8 kB/s eta 0:00:16\n",
      "   -------------------------- ------------- 20.4/30.3 MB 660.8 kB/s eta 0:00:15\n",
      "   --------------------------- ------------ 20.7/30.3 MB 660.2 kB/s eta 0:00:15\n",
      "   --------------------------- ------------ 20.7/30.3 MB 660.2 kB/s eta 0:00:15\n",
      "   --------------------------- ------------ 21.0/30.3 MB 660.1 kB/s eta 0:00:15\n",
      "   ---------------------------- ----------- 21.2/30.3 MB 659.1 kB/s eta 0:00:14\n",
      "   ---------------------------- ----------- 21.2/30.3 MB 659.1 kB/s eta 0:00:14\n",
      "   ---------------------------- ----------- 21.5/30.3 MB 658.4 kB/s eta 0:00:14\n",
      "   ---------------------------- ----------- 21.8/30.3 MB 657.7 kB/s eta 0:00:14\n",
      "   ---------------------------- ----------- 21.8/30.3 MB 657.7 kB/s eta 0:00:14\n",
      "   ----------------------------- ---------- 22.0/30.3 MB 656.5 kB/s eta 0:00:13\n",
      "   ----------------------------- ---------- 22.0/30.3 MB 656.5 kB/s eta 0:00:13\n",
      "   ----------------------------- ---------- 22.3/30.3 MB 655.9 kB/s eta 0:00:13\n",
      "   ----------------------------- ---------- 22.5/30.3 MB 654.8 kB/s eta 0:00:12\n",
      "   ----------------------------- ---------- 22.5/30.3 MB 654.8 kB/s eta 0:00:12\n",
      "   ------------------------------ --------- 22.8/30.3 MB 655.0 kB/s eta 0:00:12\n",
      "   ------------------------------ --------- 22.8/30.3 MB 655.0 kB/s eta 0:00:12\n",
      "   ------------------------------ --------- 23.1/30.3 MB 653.4 kB/s eta 0:00:12\n",
      "   ------------------------------ --------- 23.1/30.3 MB 653.4 kB/s eta 0:00:12\n",
      "   ------------------------------ --------- 23.3/30.3 MB 651.9 kB/s eta 0:00:11\n",
      "   ------------------------------ --------- 23.3/30.3 MB 651.9 kB/s eta 0:00:11\n",
      "   ------------------------------- -------- 23.6/30.3 MB 650.9 kB/s eta 0:00:11\n",
      "   ------------------------------- -------- 23.9/30.3 MB 649.6 kB/s eta 0:00:10\n",
      "   ------------------------------- -------- 23.9/30.3 MB 649.6 kB/s eta 0:00:10\n",
      "   ------------------------------- -------- 24.1/30.3 MB 649.4 kB/s eta 0:00:10\n",
      "   ------------------------------- -------- 24.1/30.3 MB 649.4 kB/s eta 0:00:10\n",
      "   -------------------------------- ------- 24.4/30.3 MB 648.4 kB/s eta 0:00:10\n",
      "   -------------------------------- ------- 24.4/30.3 MB 648.4 kB/s eta 0:00:10\n",
      "   -------------------------------- ------- 24.6/30.3 MB 647.5 kB/s eta 0:00:09\n",
      "   -------------------------------- ------- 24.9/30.3 MB 647.2 kB/s eta 0:00:09\n",
      "   -------------------------------- ------- 24.9/30.3 MB 647.2 kB/s eta 0:00:09\n",
      "   --------------------------------- ------ 25.2/30.3 MB 643.7 kB/s eta 0:00:09\n",
      "   --------------------------------- ------ 25.4/30.3 MB 643.5 kB/s eta 0:00:08\n",
      "   --------------------------------- ------ 25.4/30.3 MB 643.5 kB/s eta 0:00:08\n",
      "   --------------------------------- ------ 25.7/30.3 MB 642.4 kB/s eta 0:00:08\n",
      "   ---------------------------------- ----- 26.0/30.3 MB 644.1 kB/s eta 0:00:07\n",
      "   ---------------------------------- ----- 26.0/30.3 MB 644.1 kB/s eta 0:00:07\n",
      "   ---------------------------------- ----- 26.2/30.3 MB 644.0 kB/s eta 0:00:07\n",
      "   ---------------------------------- ----- 26.5/30.3 MB 645.5 kB/s eta 0:00:06\n",
      "   ---------------------------------- ----- 26.5/30.3 MB 645.5 kB/s eta 0:00:06\n",
      "   ----------------------------------- ---- 26.7/30.3 MB 645.5 kB/s eta 0:00:06\n",
      "   ----------------------------------- ---- 27.0/30.3 MB 646.9 kB/s eta 0:00:06\n",
      "   ----------------------------------- ---- 27.0/30.3 MB 646.9 kB/s eta 0:00:06\n",
      "   ----------------------------------- ---- 27.3/30.3 MB 647.7 kB/s eta 0:00:05\n",
      "   ------------------------------------ --- 27.5/30.3 MB 648.1 kB/s eta 0:00:05\n",
      "   ------------------------------------ --- 27.8/30.3 MB 648.5 kB/s eta 0:00:04\n",
      "   ------------------------------------ --- 27.8/30.3 MB 648.5 kB/s eta 0:00:04\n",
      "   ------------------------------------ --- 28.0/30.3 MB 649.1 kB/s eta 0:00:04\n",
      "   ------------------------------------- -- 28.3/30.3 MB 649.7 kB/s eta 0:00:04\n",
      "   ------------------------------------- -- 28.6/30.3 MB 650.4 kB/s eta 0:00:03\n",
      "   -------------------------------------- - 28.8/30.3 MB 652.1 kB/s eta 0:00:03\n",
      "   -------------------------------------- - 29.1/30.3 MB 656.3 kB/s eta 0:00:02\n",
      "   -------------------------------------- - 29.1/30.3 MB 656.3 kB/s eta 0:00:02\n",
      "   -------------------------------------- - 29.4/30.3 MB 657.5 kB/s eta 0:00:02\n",
      "   ---------------------------------------  29.6/30.3 MB 659.6 kB/s eta 0:00:02\n",
      "   ---------------------------------------  29.9/30.3 MB 661.8 kB/s eta 0:00:01\n",
      "   ---------------------------------------  30.1/30.3 MB 664.3 kB/s eta 0:00:01\n",
      "   ---------------------------------------  30.1/30.3 MB 664.3 kB/s eta 0:00:01\n",
      "   ---------------------------------------- 30.3/30.3 MB 658.8 kB/s eta 0:00:00\n",
      "Using cached pooch-1.8.2-py3-none-any.whl (64 kB)\n",
      "Using cached soxr-0.5.0.post1-cp312-abi3-win_amd64.whl (164 kB)\n",
      "Downloading standard_aifc-3.13.0-py3-none-any.whl (10 kB)\n",
      "Downloading audioop_lts-0.2.1-cp313-abi3-win_amd64.whl (30 kB)\n",
      "Downloading standard_chunk-3.13.0-py3-none-any.whl (4.9 kB)\n",
      "Downloading standard_sunau-3.13.0-py3-none-any.whl (7.4 kB)\n",
      "Installing collected packages: standard-chunk, soxr, msgpack, llvmlite, lazy_loader, audioread, audioop-lts, standard-sunau, standard-aifc, soundfile, pooch, numba, librosa\n",
      "\n",
      "   ------ ---------------------------------  2/13 [msgpack]\n",
      "   --------- ------------------------------  3/13 [llvmlite]\n",
      "   --------- ------------------------------  3/13 [llvmlite]\n",
      "   --------- ------------------------------  3/13 [llvmlite]\n",
      "   --------- ------------------------------  3/13 [llvmlite]\n",
      "   --------- ------------------------------  3/13 [llvmlite]\n",
      "   --------- ------------------------------  3/13 [llvmlite]\n",
      "   --------- ------------------------------  3/13 [llvmlite]\n",
      "   --------- ------------------------------  3/13 [llvmlite]\n",
      "   --------- ------------------------------  3/13 [llvmlite]\n",
      "   --------- ------------------------------  3/13 [llvmlite]\n",
      "   --------- ------------------------------  3/13 [llvmlite]\n",
      "   --------- ------------------------------  3/13 [llvmlite]\n",
      "   --------------- ------------------------  5/13 [audioread]\n",
      "   --------------------- ------------------  7/13 [standard-sunau]\n",
      "   --------------------------- ------------  9/13 [soundfile]\n",
      "   ------------------------------ --------- 10/13 [pooch]\n",
      "   --------------------------------- ------ 11/13 [numba]\n",
      "   --------------------------------- ------ 11/13 [numba]\n",
      "   --------------------------------- ------ 11/13 [numba]\n",
      "   --------------------------------- ------ 11/13 [numba]\n",
      "   --------------------------------- ------ 11/13 [numba]\n",
      "   --------------------------------- ------ 11/13 [numba]\n",
      "   --------------------------------- ------ 11/13 [numba]\n",
      "   --------------------------------- ------ 11/13 [numba]\n",
      "   --------------------------------- ------ 11/13 [numba]\n",
      "   --------------------------------- ------ 11/13 [numba]\n",
      "   --------------------------------- ------ 11/13 [numba]\n",
      "   --------------------------------- ------ 11/13 [numba]\n",
      "   --------------------------------- ------ 11/13 [numba]\n",
      "   --------------------------------- ------ 11/13 [numba]\n",
      "   --------------------------------- ------ 11/13 [numba]\n",
      "   --------------------------------- ------ 11/13 [numba]\n",
      "   --------------------------------- ------ 11/13 [numba]\n",
      "   --------------------------------- ------ 11/13 [numba]\n",
      "   --------------------------------- ------ 11/13 [numba]\n",
      "   --------------------------------- ------ 11/13 [numba]\n",
      "   --------------------------------- ------ 11/13 [numba]\n",
      "   --------------------------------- ------ 11/13 [numba]\n",
      "   --------------------------------- ------ 11/13 [numba]\n",
      "   --------------------------------- ------ 11/13 [numba]\n",
      "   --------------------------------- ------ 11/13 [numba]\n",
      "   --------------------------------- ------ 11/13 [numba]\n",
      "   --------------------------------- ------ 11/13 [numba]\n",
      "   --------------------------------- ------ 11/13 [numba]\n",
      "   --------------------------------- ------ 11/13 [numba]\n",
      "   --------------------------------- ------ 11/13 [numba]\n",
      "   --------------------------------- ------ 11/13 [numba]\n",
      "   --------------------------------- ------ 11/13 [numba]\n",
      "   --------------------------------- ------ 11/13 [numba]\n",
      "   --------------------------------- ------ 11/13 [numba]\n",
      "   --------------------------------- ------ 11/13 [numba]\n",
      "   --------------------------------- ------ 11/13 [numba]\n",
      "   --------------------------------- ------ 11/13 [numba]\n",
      "   --------------------------------- ------ 11/13 [numba]\n",
      "   --------------------------------- ------ 11/13 [numba]\n",
      "   --------------------------------- ------ 11/13 [numba]\n",
      "   --------------------------------- ------ 11/13 [numba]\n",
      "   --------------------------------- ------ 11/13 [numba]\n",
      "   --------------------------------- ------ 11/13 [numba]\n",
      "   --------------------------------- ------ 11/13 [numba]\n",
      "   --------------------------------- ------ 11/13 [numba]\n",
      "   --------------------------------- ------ 11/13 [numba]\n",
      "   --------------------------------- ------ 11/13 [numba]\n",
      "   --------------------------------- ------ 11/13 [numba]\n",
      "   --------------------------------- ------ 11/13 [numba]\n",
      "   --------------------------------- ------ 11/13 [numba]\n",
      "   --------------------------------- ------ 11/13 [numba]\n",
      "   --------------------------------- ------ 11/13 [numba]\n",
      "   --------------------------------- ------ 11/13 [numba]\n",
      "   --------------------------------- ------ 11/13 [numba]\n",
      "   --------------------------------- ------ 11/13 [numba]\n",
      "   --------------------------------- ------ 11/13 [numba]\n",
      "   --------------------------------- ------ 11/13 [numba]\n",
      "   --------------------------------- ------ 11/13 [numba]\n",
      "   --------------------------------- ------ 11/13 [numba]\n",
      "   --------------------------------- ------ 11/13 [numba]\n",
      "   --------------------------------- ------ 11/13 [numba]\n",
      "   --------------------------------- ------ 11/13 [numba]\n",
      "   --------------------------------- ------ 11/13 [numba]\n",
      "   --------------------------------- ------ 11/13 [numba]\n",
      "   --------------------------------- ------ 11/13 [numba]\n",
      "   --------------------------------- ------ 11/13 [numba]\n",
      "   --------------------------------- ------ 11/13 [numba]\n",
      "   --------------------------------- ------ 11/13 [numba]\n",
      "   --------------------------------- ------ 11/13 [numba]\n",
      "   --------------------------------- ------ 11/13 [numba]\n",
      "   --------------------------------- ------ 11/13 [numba]\n",
      "   --------------------------------- ------ 11/13 [numba]\n",
      "   --------------------------------- ------ 11/13 [numba]\n",
      "   --------------------------------- ------ 11/13 [numba]\n",
      "   --------------------------------- ------ 11/13 [numba]\n",
      "   --------------------------------- ------ 11/13 [numba]\n",
      "   --------------------------------- ------ 11/13 [numba]\n",
      "   --------------------------------- ------ 11/13 [numba]\n",
      "   --------------------------------- ------ 11/13 [numba]\n",
      "   --------------------------------- ------ 11/13 [numba]\n",
      "   --------------------------------- ------ 11/13 [numba]\n",
      "   --------------------------------- ------ 11/13 [numba]\n",
      "   --------------------------------- ------ 11/13 [numba]\n",
      "   --------------------------------- ------ 11/13 [numba]\n",
      "   --------------------------------- ------ 11/13 [numba]\n",
      "   --------------------------------- ------ 11/13 [numba]\n",
      "   --------------------------------- ------ 11/13 [numba]\n",
      "   --------------------------------- ------ 11/13 [numba]\n",
      "   ------------------------------------ --- 12/13 [librosa]\n",
      "   ------------------------------------ --- 12/13 [librosa]\n",
      "   ------------------------------------ --- 12/13 [librosa]\n",
      "   ---------------------------------------- 13/13 [librosa]\n",
      "\n",
      "Successfully installed audioop-lts-0.2.1 audioread-3.0.1 lazy_loader-0.4 librosa-0.11.0 llvmlite-0.44.0 msgpack-1.1.0 numba-0.61.2 pooch-1.8.2 soundfile-0.13.1 soxr-0.5.0.post1 standard-aifc-3.13.0 standard-chunk-3.13.0 standard-sunau-3.13.0\n"
     ]
    }
   ],
   "source": [
    "!pip install librosa soundfile numpy matplotlib"
   ]
  },
  {
   "cell_type": "code",
   "execution_count": 5,
   "id": "375bf8b4-a1ed-40a3-acd6-11780863bf42",
   "metadata": {},
   "outputs": [
    {
     "data": {
      "image/png": "[encoded data removed]",
      "text/plain": [
       "<Figure size 1000x400 with 2 Axes>"
      ]
     },
     "metadata": {},
     "output_type": "display_data"
    }
   ],
   "source": [
    "import librosa\n",
    "import numpy as np\n",
    "import matplotlib.pyplot as plt\n",
    "import os\n",
    "\n",
    "# Loads a sample file\n",
    "file_path = 'data_clean/yes/0a7c2a8d_nohash_0.wav'  \n",
    "y, sr = librosa.load(file_path, sr=16000)  # force sample rate to 16kHz\n",
    "\n",
    "# Convert window size from ms to samples\n",
    "def ms_to_samples(ms, sr=16000):\n",
    "    return int((ms / 1000) * sr)\n",
    "\n",
    "win_length = ms_to_samples(25)\n",
    "hop_length = ms_to_samples(10)\n",
    "\n",
    "# Extract MFCCs\n",
    "mfcc = librosa.feature.mfcc(y=y, sr=sr, n_mfcc=13, n_fft=512,\n",
    "                            hop_length=hop_length, win_length=win_length)\n",
    "\n",
    "# Display the MFCC\n",
    "plt.figure(figsize=(10, 4))\n",
    "librosa.display.specshow(mfcc, x_axis='time')\n",
    "plt.colorbar()\n",
    "plt.title('MFCC')\n",
    "plt.tight_layout()\n",
    "plt.show()\n"
   ]
  },
  {
   "cell_type": "code",
   "execution_count": 10,
   "id": "45ebdbec-42d9-4f12-9d41-15d61628870b",
   "metadata": {},
   "outputs": [
    {
     "name": "stdout",
     "output_type": "stream",
     "text": [
      "Window: 10 ms, Overlap: 0%, MFCC shape: (13, 101)\n",
      "Window: 10 ms, Overlap: 25%, MFCC shape: (13, 134)\n",
      "Window: 10 ms, Overlap: 50%, MFCC shape: (13, 201)\n",
      "Window: 10 ms, Overlap: 75%, MFCC shape: (13, 401)\n",
      "Window: 20 ms, Overlap: 0%, MFCC shape: (13, 51)\n",
      "Window: 20 ms, Overlap: 25%, MFCC shape: (13, 67)\n",
      "Window: 20 ms, Overlap: 50%, MFCC shape: (13, 101)\n",
      "Window: 20 ms, Overlap: 75%, MFCC shape: (13, 201)\n",
      "Window: 30 ms, Overlap: 0%, MFCC shape: (13, 34)\n",
      "Window: 30 ms, Overlap: 25%, MFCC shape: (13, 45)\n",
      "Window: 30 ms, Overlap: 50%, MFCC shape: (13, 67)\n",
      "Window: 30 ms, Overlap: 75%, MFCC shape: (13, 134)\n",
      "Window: 40 ms, Overlap: 0%, MFCC shape: (13, 26)\n",
      "Window: 40 ms, Overlap: 25%, MFCC shape: (13, 34)\n",
      "Window: 40 ms, Overlap: 50%, MFCC shape: (13, 51)\n",
      "Window: 40 ms, Overlap: 75%, MFCC shape: (13, 101)\n",
      "Window: 50 ms, Overlap: 0%, MFCC shape: (13, 21)\n",
      "Window: 50 ms, Overlap: 25%, MFCC shape: (13, 27)\n",
      "Window: 50 ms, Overlap: 50%, MFCC shape: (13, 41)\n",
      "Window: 50 ms, Overlap: 75%, MFCC shape: (13, 81)\n",
      "Window: 60 ms, Overlap: 0%, MFCC shape: (13, 17)\n",
      "Window: 60 ms, Overlap: 25%, MFCC shape: (13, 23)\n",
      "Window: 60 ms, Overlap: 50%, MFCC shape: (13, 34)\n",
      "Window: 60 ms, Overlap: 75%, MFCC shape: (13, 67)\n",
      "Window: 70 ms, Overlap: 0%, MFCC shape: (13, 15)\n",
      "Window: 70 ms, Overlap: 25%, MFCC shape: (13, 20)\n",
      "Window: 70 ms, Overlap: 50%, MFCC shape: (13, 29)\n",
      "Window: 70 ms, Overlap: 75%, MFCC shape: (13, 58)\n",
      "Window: 80 ms, Overlap: 0%, MFCC shape: (13, 13)\n",
      "Window: 80 ms, Overlap: 25%, MFCC shape: (13, 17)\n",
      "Window: 80 ms, Overlap: 50%, MFCC shape: (13, 26)\n",
      "Window: 80 ms, Overlap: 75%, MFCC shape: (13, 51)\n",
      "Window: 90 ms, Overlap: 0%, MFCC shape: (13, 12)\n",
      "Window: 90 ms, Overlap: 25%, MFCC shape: (13, 15)\n",
      "Window: 90 ms, Overlap: 50%, MFCC shape: (13, 23)\n",
      "Window: 90 ms, Overlap: 75%, MFCC shape: (13, 45)\n",
      "Window: 100 ms, Overlap: 0%, MFCC shape: (13, 11)\n",
      "Window: 100 ms, Overlap: 25%, MFCC shape: (13, 14)\n",
      "Window: 100 ms, Overlap: 50%, MFCC shape: (13, 21)\n",
      "Window: 100 ms, Overlap: 75%, MFCC shape: (13, 41)\n"
     ]
    }
   ],
   "source": [
    "\n",
    "def extract_mfcc_features(y, sr, win_ms, overlap):\n",
    "    win_length = ms_to_samples(win_ms, sr)          # e.g. 25ms → 400 samples\n",
    "    hop_length = max(1, int(win_length * (1 - overlap)))  # ensure ≥1\n",
    "    n_fft = 2 ** (win_length - 1).bit_length()       # next power of 2 for n_fft ≥ win_length\n",
    "\n",
    "    if win_length > n_fft:\n",
    "        raise ValueError(f\"Window length {win_length} exceeds n_fft {n_fft}\")\n",
    "\n",
    "    mfcc = librosa.feature.mfcc(\n",
    "        y=y,\n",
    "        sr=sr,\n",
    "        n_mfcc=13,\n",
    "        n_fft=n_fft,\n",
    "        hop_length=hop_length,\n",
    "        win_length=win_length\n",
    "    )\n",
    "    return mfcc\n",
    "window_lengths_ms = list(range(10, 101, 10))  # 10ms to 100ms\n",
    "overlap_percents = [0.0, 0.25, 0.5, 0.75]\n",
    "\n",
    "for win_ms in window_lengths_ms:\n",
    "    for overlap in overlap_percents:\n",
    "        try:\n",
    "            mfcc = extract_mfcc_features(y, sr, win_ms, overlap)\n",
    "            print(f\"Window: {win_ms} ms, Overlap: {int(overlap*100)}%, MFCC shape: {mfcc.shape}\")\n",
    "        except Exception as e:\n",
    "            print(f\"Window: {win_ms} ms, Overlap: {int(overlap*100)}% → Error: {e}\")\n"
   ]
  },
  {
   "cell_type": "code",
   "execution_count": 11,
   "id": "26a8cc24-7dfb-4e84-a31b-bb7c3e0be46b",
   "metadata": {},
   "outputs": [
    {
     "name": "stdout",
     "output_type": "stream",
     "text": [
      "Processing win=10ms, overlap=0%\n"
     ]
    },
    {
     "name": "stderr",
     "output_type": "stream",
     "text": [
      "  down: 100%|██████████████████████████████████████████████████████████████████████| 2359/2359 [00:38<00:00, 61.09it/s]\n",
      "  go: 100%|████████████████████████████████████████████████████████████████████████| 2372/2372 [00:42<00:00, 56.21it/s]\n",
      "  left: 100%|██████████████████████████████████████████████████████████████████████| 2353/2353 [00:41<00:00, 56.92it/s]\n",
      "  no: 100%|████████████████████████████████████████████████████████████████████████| 2375/2375 [00:35<00:00, 67.32it/s]\n",
      "  off: 100%|███████████████████████████████████████████████████████████████████████| 2357/2357 [00:33<00:00, 69.44it/s]\n",
      "  on: 100%|████████████████████████████████████████████████████████████████████████| 2367/2367 [00:33<00:00, 69.71it/s]\n",
      "  right: 100%|█████████████████████████████████████████████████████████████████████| 2367/2367 [00:34<00:00, 69.14it/s]\n",
      "  stop: 100%|██████████████████████████████████████████████████████████████████████| 2380/2380 [00:33<00:00, 70.80it/s]\n",
      "  up: 100%|████████████████████████████████████████████████████████████████████████| 2375/2375 [00:32<00:00, 72.68it/s]\n",
      "  yes: 100%|███████████████████████████████████████████████████████████████████████| 2377/2377 [00:32<00:00, 73.02it/s]\n"
     ]
    },
    {
     "name": "stdout",
     "output_type": "stream",
     "text": [
      "Processing win=10ms, overlap=25%\n"
     ]
    },
    {
     "name": "stderr",
     "output_type": "stream",
     "text": [
      "  down: 100%|██████████████████████████████████████████████████████████████████████| 2359/2359 [00:33<00:00, 71.15it/s]\n",
      "  go: 100%|████████████████████████████████████████████████████████████████████████| 2372/2372 [00:34<00:00, 69.05it/s]\n",
      "  left: 100%|██████████████████████████████████████████████████████████████████████| 2353/2353 [00:33<00:00, 70.39it/s]\n",
      "  no: 100%|████████████████████████████████████████████████████████████████████████| 2375/2375 [00:32<00:00, 72.69it/s]\n",
      "  off: 100%|███████████████████████████████████████████████████████████████████████| 2357/2357 [00:32<00:00, 72.21it/s]\n",
      "  on: 100%|████████████████████████████████████████████████████████████████████████| 2367/2367 [00:33<00:00, 71.24it/s]\n",
      "  right: 100%|█████████████████████████████████████████████████████████████████████| 2367/2367 [00:32<00:00, 72.31it/s]\n",
      "  stop: 100%|██████████████████████████████████████████████████████████████████████| 2380/2380 [00:33<00:00, 71.60it/s]\n",
      "  up: 100%|████████████████████████████████████████████████████████████████████████| 2375/2375 [00:32<00:00, 72.05it/s]\n",
      "  yes: 100%|███████████████████████████████████████████████████████████████████████| 2377/2377 [00:33<00:00, 71.73it/s]\n"
     ]
    },
    {
     "name": "stdout",
     "output_type": "stream",
     "text": [
      "Processing win=10ms, overlap=50%\n"
     ]
    },
    {
     "name": "stderr",
     "output_type": "stream",
     "text": [
      "  down: 100%|██████████████████████████████████████████████████████████████████████| 2359/2359 [00:34<00:00, 68.53it/s]\n",
      "  go: 100%|████████████████████████████████████████████████████████████████████████| 2372/2372 [00:34<00:00, 68.35it/s]\n",
      "  left: 100%|██████████████████████████████████████████████████████████████████████| 2353/2353 [00:35<00:00, 67.22it/s]\n",
      "  no: 100%|████████████████████████████████████████████████████████████████████████| 2375/2375 [00:34<00:00, 68.38it/s]\n",
      "  off: 100%|███████████████████████████████████████████████████████████████████████| 2357/2357 [00:35<00:00, 66.37it/s]\n",
      "  on: 100%|████████████████████████████████████████████████████████████████████████| 2367/2367 [00:36<00:00, 65.69it/s]\n",
      "  right: 100%|█████████████████████████████████████████████████████████████████████| 2367/2367 [00:33<00:00, 71.50it/s]\n",
      "  stop: 100%|██████████████████████████████████████████████████████████████████████| 2380/2380 [00:33<00:00, 72.07it/s]\n",
      "  up: 100%|████████████████████████████████████████████████████████████████████████| 2375/2375 [00:38<00:00, 61.12it/s]\n",
      "  yes: 100%|███████████████████████████████████████████████████████████████████████| 2377/2377 [00:37<00:00, 63.72it/s]\n"
     ]
    },
    {
     "name": "stdout",
     "output_type": "stream",
     "text": [
      "Processing win=10ms, overlap=75%\n"
     ]
    },
    {
     "name": "stderr",
     "output_type": "stream",
     "text": [
      "  down: 100%|██████████████████████████████████████████████████████████████████████| 2359/2359 [00:42<00:00, 55.31it/s]\n",
      "  go: 100%|████████████████████████████████████████████████████████████████████████| 2372/2372 [00:41<00:00, 56.62it/s]\n",
      "  left: 100%|██████████████████████████████████████████████████████████████████████| 2353/2353 [00:46<00:00, 50.42it/s]\n",
      "  no: 100%|████████████████████████████████████████████████████████████████████████| 2375/2375 [00:50<00:00, 47.19it/s]\n",
      "  off: 100%|███████████████████████████████████████████████████████████████████████| 2357/2357 [00:43<00:00, 53.90it/s]\n",
      "  on: 100%|████████████████████████████████████████████████████████████████████████| 2367/2367 [00:47<00:00, 49.76it/s]\n",
      "  right: 100%|█████████████████████████████████████████████████████████████████████| 2367/2367 [00:44<00:00, 52.80it/s]\n",
      "  stop: 100%|██████████████████████████████████████████████████████████████████████| 2380/2380 [00:43<00:00, 54.98it/s]\n",
      "  up: 100%|████████████████████████████████████████████████████████████████████████| 2375/2375 [00:43<00:00, 54.77it/s]\n",
      "  yes: 100%|███████████████████████████████████████████████████████████████████████| 2377/2377 [00:42<00:00, 55.28it/s]\n"
     ]
    },
    {
     "name": "stdout",
     "output_type": "stream",
     "text": [
      "Processing win=20ms, overlap=0%\n"
     ]
    },
    {
     "name": "stderr",
     "output_type": "stream",
     "text": [
      "  down: 100%|██████████████████████████████████████████████████████████████████████| 2359/2359 [00:32<00:00, 73.08it/s]\n",
      "  go: 100%|████████████████████████████████████████████████████████████████████████| 2372/2372 [00:33<00:00, 70.27it/s]\n",
      "  left: 100%|██████████████████████████████████████████████████████████████████████| 2353/2353 [00:32<00:00, 71.44it/s]\n",
      "  no: 100%|████████████████████████████████████████████████████████████████████████| 2375/2375 [00:32<00:00, 72.20it/s]\n",
      "  off: 100%|███████████████████████████████████████████████████████████████████████| 2357/2357 [00:35<00:00, 66.89it/s]\n",
      "  on: 100%|████████████████████████████████████████████████████████████████████████| 2367/2367 [00:33<00:00, 70.27it/s]\n",
      "  right: 100%|█████████████████████████████████████████████████████████████████████| 2367/2367 [00:32<00:00, 72.63it/s]\n",
      "  stop: 100%|██████████████████████████████████████████████████████████████████████| 2380/2380 [00:33<00:00, 71.75it/s]\n",
      "  up: 100%|████████████████████████████████████████████████████████████████████████| 2375/2375 [00:33<00:00, 71.92it/s]\n",
      "  yes: 100%|███████████████████████████████████████████████████████████████████████| 2377/2377 [00:40<00:00, 58.08it/s]\n"
     ]
    },
    {
     "name": "stdout",
     "output_type": "stream",
     "text": [
      "Processing win=20ms, overlap=25%\n"
     ]
    },
    {
     "name": "stderr",
     "output_type": "stream",
     "text": [
      "  down: 100%|██████████████████████████████████████████████████████████████████████| 2359/2359 [00:38<00:00, 61.79it/s]\n",
      "  go: 100%|████████████████████████████████████████████████████████████████████████| 2372/2372 [00:32<00:00, 73.13it/s]\n",
      "  left: 100%|██████████████████████████████████████████████████████████████████████| 2353/2353 [00:31<00:00, 73.80it/s]\n",
      "  no: 100%|████████████████████████████████████████████████████████████████████████| 2375/2375 [00:32<00:00, 72.59it/s]\n",
      "  off: 100%|███████████████████████████████████████████████████████████████████████| 2357/2357 [00:31<00:00, 74.50it/s]\n",
      "  on: 100%|████████████████████████████████████████████████████████████████████████| 2367/2367 [00:31<00:00, 74.90it/s]\n",
      "  right: 100%|█████████████████████████████████████████████████████████████████████| 2367/2367 [00:32<00:00, 73.92it/s]\n",
      "  stop: 100%|██████████████████████████████████████████████████████████████████████| 2380/2380 [00:31<00:00, 75.10it/s]\n",
      "  up: 100%|████████████████████████████████████████████████████████████████████████| 2375/2375 [00:32<00:00, 73.47it/s]\n",
      "  yes: 100%|███████████████████████████████████████████████████████████████████████| 2377/2377 [00:32<00:00, 73.96it/s]\n"
     ]
    },
    {
     "name": "stdout",
     "output_type": "stream",
     "text": [
      "Processing win=20ms, overlap=50%\n"
     ]
    },
    {
     "name": "stderr",
     "output_type": "stream",
     "text": [
      "  down: 100%|██████████████████████████████████████████████████████████████████████| 2359/2359 [00:32<00:00, 71.63it/s]\n",
      "  go: 100%|████████████████████████████████████████████████████████████████████████| 2372/2372 [00:33<00:00, 71.26it/s]\n",
      "  left: 100%|██████████████████████████████████████████████████████████████████████| 2353/2353 [00:33<00:00, 70.89it/s]\n",
      "  no: 100%|████████████████████████████████████████████████████████████████████████| 2375/2375 [00:33<00:00, 71.34it/s]\n",
      "  off: 100%|███████████████████████████████████████████████████████████████████████| 2357/2357 [00:32<00:00, 72.35it/s]\n",
      "  on: 100%|████████████████████████████████████████████████████████████████████████| 2367/2367 [00:34<00:00, 69.06it/s]\n",
      "  right: 100%|█████████████████████████████████████████████████████████████████████| 2367/2367 [00:34<00:00, 68.47it/s]\n",
      "  stop: 100%|██████████████████████████████████████████████████████████████████████| 2380/2380 [00:34<00:00, 69.51it/s]\n",
      "  up: 100%|████████████████████████████████████████████████████████████████████████| 2375/2375 [00:34<00:00, 69.33it/s]\n",
      "  yes: 100%|███████████████████████████████████████████████████████████████████████| 2377/2377 [00:34<00:00, 69.59it/s]\n"
     ]
    },
    {
     "name": "stdout",
     "output_type": "stream",
     "text": [
      "Processing win=20ms, overlap=75%\n"
     ]
    },
    {
     "name": "stderr",
     "output_type": "stream",
     "text": [
      "  down: 100%|██████████████████████████████████████████████████████████████████████| 2359/2359 [00:38<00:00, 61.31it/s]\n",
      "  go: 100%|████████████████████████████████████████████████████████████████████████| 2372/2372 [00:39<00:00, 60.37it/s]\n",
      "  left: 100%|██████████████████████████████████████████████████████████████████████| 2353/2353 [00:38<00:00, 60.50it/s]\n",
      "  no: 100%|████████████████████████████████████████████████████████████████████████| 2375/2375 [00:38<00:00, 61.75it/s]\n",
      "  off: 100%|███████████████████████████████████████████████████████████████████████| 2357/2357 [00:38<00:00, 61.14it/s]\n",
      "  on: 100%|████████████████████████████████████████████████████████████████████████| 2367/2367 [00:38<00:00, 61.40it/s]\n",
      "  right: 100%|█████████████████████████████████████████████████████████████████████| 2367/2367 [00:39<00:00, 60.12it/s]\n",
      "  stop: 100%|██████████████████████████████████████████████████████████████████████| 2380/2380 [00:39<00:00, 60.83it/s]\n",
      "  up: 100%|████████████████████████████████████████████████████████████████████████| 2375/2375 [00:38<00:00, 62.29it/s]\n",
      "  yes: 100%|███████████████████████████████████████████████████████████████████████| 2377/2377 [00:38<00:00, 61.11it/s]\n"
     ]
    },
    {
     "name": "stdout",
     "output_type": "stream",
     "text": [
      "Processing win=30ms, overlap=0%\n"
     ]
    },
    {
     "name": "stderr",
     "output_type": "stream",
     "text": [
      "  down: 100%|██████████████████████████████████████████████████████████████████████| 2359/2359 [00:30<00:00, 76.32it/s]\n",
      "  go: 100%|████████████████████████████████████████████████████████████████████████| 2372/2372 [00:29<00:00, 81.54it/s]\n",
      "  left: 100%|██████████████████████████████████████████████████████████████████████| 2353/2353 [00:28<00:00, 82.27it/s]\n",
      "  no: 100%|████████████████████████████████████████████████████████████████████████| 2375/2375 [00:29<00:00, 81.44it/s]\n",
      "  off: 100%|███████████████████████████████████████████████████████████████████████| 2357/2357 [00:28<00:00, 81.49it/s]\n",
      "  on: 100%|████████████████████████████████████████████████████████████████████████| 2367/2367 [00:28<00:00, 82.32it/s]\n",
      "  right: 100%|█████████████████████████████████████████████████████████████████████| 2367/2367 [00:29<00:00, 81.13it/s]\n",
      "  stop: 100%|██████████████████████████████████████████████████████████████████████| 2380/2380 [00:29<00:00, 80.08it/s]\n",
      "  up: 100%|████████████████████████████████████████████████████████████████████████| 2375/2375 [00:29<00:00, 80.15it/s]\n",
      "  yes: 100%|███████████████████████████████████████████████████████████████████████| 2377/2377 [00:30<00:00, 79.19it/s]\n"
     ]
    },
    {
     "name": "stdout",
     "output_type": "stream",
     "text": [
      "Processing win=30ms, overlap=25%\n"
     ]
    },
    {
     "name": "stderr",
     "output_type": "stream",
     "text": [
      "  down: 100%|██████████████████████████████████████████████████████████████████████| 2359/2359 [00:28<00:00, 81.86it/s]\n",
      "  go: 100%|████████████████████████████████████████████████████████████████████████| 2372/2372 [00:29<00:00, 79.86it/s]\n",
      "  left: 100%|██████████████████████████████████████████████████████████████████████| 2353/2353 [00:29<00:00, 79.48it/s]\n",
      "  no: 100%|████████████████████████████████████████████████████████████████████████| 2375/2375 [00:29<00:00, 79.94it/s]\n",
      "  off: 100%|███████████████████████████████████████████████████████████████████████| 2357/2357 [00:29<00:00, 80.87it/s]\n",
      "  on: 100%|████████████████████████████████████████████████████████████████████████| 2367/2367 [00:33<00:00, 70.77it/s]\n",
      "  right: 100%|█████████████████████████████████████████████████████████████████████| 2367/2367 [00:31<00:00, 75.08it/s]\n",
      "  stop: 100%|██████████████████████████████████████████████████████████████████████| 2380/2380 [00:32<00:00, 72.53it/s]\n",
      "  up: 100%|████████████████████████████████████████████████████████████████████████| 2375/2375 [00:31<00:00, 74.55it/s]\n",
      "  yes: 100%|███████████████████████████████████████████████████████████████████████| 2377/2377 [00:32<00:00, 72.75it/s]\n"
     ]
    },
    {
     "name": "stdout",
     "output_type": "stream",
     "text": [
      "Processing win=30ms, overlap=50%\n"
     ]
    },
    {
     "name": "stderr",
     "output_type": "stream",
     "text": [
      "  down: 100%|██████████████████████████████████████████████████████████████████████| 2359/2359 [00:32<00:00, 73.60it/s]\n",
      "  go: 100%|████████████████████████████████████████████████████████████████████████| 2372/2372 [00:31<00:00, 74.90it/s]\n",
      "  left: 100%|██████████████████████████████████████████████████████████████████████| 2353/2353 [00:28<00:00, 83.76it/s]\n",
      "  no: 100%|████████████████████████████████████████████████████████████████████████| 2375/2375 [00:28<00:00, 83.74it/s]\n",
      "  off: 100%|███████████████████████████████████████████████████████████████████████| 2357/2357 [00:27<00:00, 84.42it/s]\n",
      "  on: 100%|████████████████████████████████████████████████████████████████████████| 2367/2367 [00:28<00:00, 81.63it/s]\n",
      "  right: 100%|█████████████████████████████████████████████████████████████████████| 2367/2367 [00:30<00:00, 78.66it/s]\n",
      "  stop: 100%|██████████████████████████████████████████████████████████████████████| 2380/2380 [00:29<00:00, 80.90it/s]\n",
      "  up: 100%|████████████████████████████████████████████████████████████████████████| 2375/2375 [00:29<00:00, 80.44it/s]\n",
      "  yes: 100%|███████████████████████████████████████████████████████████████████████| 2377/2377 [00:30<00:00, 77.45it/s]\n"
     ]
    },
    {
     "name": "stdout",
     "output_type": "stream",
     "text": [
      "Processing win=30ms, overlap=75%\n"
     ]
    },
    {
     "name": "stderr",
     "output_type": "stream",
     "text": [
      "  down: 100%|██████████████████████████████████████████████████████████████████████| 2359/2359 [00:32<00:00, 71.97it/s]\n",
      "  go: 100%|████████████████████████████████████████████████████████████████████████| 2372/2372 [00:33<00:00, 71.63it/s]\n",
      "  left: 100%|██████████████████████████████████████████████████████████████████████| 2353/2353 [00:32<00:00, 72.62it/s]\n",
      "  no: 100%|████████████████████████████████████████████████████████████████████████| 2375/2375 [00:32<00:00, 72.30it/s]\n",
      "  off: 100%|███████████████████████████████████████████████████████████████████████| 2357/2357 [00:32<00:00, 73.00it/s]\n",
      "  on: 100%|████████████████████████████████████████████████████████████████████████| 2367/2367 [00:32<00:00, 71.78it/s]\n",
      "  right: 100%|█████████████████████████████████████████████████████████████████████| 2367/2367 [00:33<00:00, 70.08it/s]\n",
      "  stop: 100%|██████████████████████████████████████████████████████████████████████| 2380/2380 [00:37<00:00, 63.15it/s]\n",
      "  up: 100%|████████████████████████████████████████████████████████████████████████| 2375/2375 [00:34<00:00, 68.39it/s]\n",
      "  yes: 100%|███████████████████████████████████████████████████████████████████████| 2377/2377 [00:34<00:00, 68.69it/s]\n"
     ]
    },
    {
     "name": "stdout",
     "output_type": "stream",
     "text": [
      "Processing win=40ms, overlap=0%\n"
     ]
    },
    {
     "name": "stderr",
     "output_type": "stream",
     "text": [
      "  down: 100%|██████████████████████████████████████████████████████████████████████| 2359/2359 [00:33<00:00, 70.02it/s]\n",
      "  go: 100%|████████████████████████████████████████████████████████████████████████| 2372/2372 [00:33<00:00, 70.20it/s]\n",
      "  left: 100%|██████████████████████████████████████████████████████████████████████| 2353/2353 [00:34<00:00, 67.23it/s]\n",
      "  no: 100%|████████████████████████████████████████████████████████████████████████| 2375/2375 [00:32<00:00, 73.69it/s]\n",
      "  off: 100%|███████████████████████████████████████████████████████████████████████| 2357/2357 [00:31<00:00, 73.88it/s]\n",
      "  on: 100%|████████████████████████████████████████████████████████████████████████| 2367/2367 [00:32<00:00, 73.86it/s]\n",
      "  right: 100%|█████████████████████████████████████████████████████████████████████| 2367/2367 [00:32<00:00, 73.30it/s]\n",
      "  stop: 100%|██████████████████████████████████████████████████████████████████████| 2380/2380 [00:32<00:00, 73.21it/s]\n",
      "  up: 100%|████████████████████████████████████████████████████████████████████████| 2375/2375 [00:32<00:00, 73.60it/s]\n",
      "  yes: 100%|███████████████████████████████████████████████████████████████████████| 2377/2377 [00:32<00:00, 72.95it/s]\n"
     ]
    },
    {
     "name": "stdout",
     "output_type": "stream",
     "text": [
      "Processing win=40ms, overlap=25%\n"
     ]
    },
    {
     "name": "stderr",
     "output_type": "stream",
     "text": [
      "  down: 100%|██████████████████████████████████████████████████████████████████████| 2359/2359 [00:32<00:00, 72.18it/s]\n",
      "  go: 100%|████████████████████████████████████████████████████████████████████████| 2372/2372 [00:32<00:00, 72.55it/s]\n",
      "  left: 100%|██████████████████████████████████████████████████████████████████████| 2353/2353 [00:32<00:00, 72.32it/s]\n",
      "  no: 100%|████████████████████████████████████████████████████████████████████████| 2375/2375 [00:34<00:00, 69.78it/s]\n",
      "  off: 100%|███████████████████████████████████████████████████████████████████████| 2357/2357 [00:32<00:00, 71.74it/s]\n",
      "  on: 100%|████████████████████████████████████████████████████████████████████████| 2367/2367 [00:32<00:00, 72.57it/s]\n",
      "  right: 100%|█████████████████████████████████████████████████████████████████████| 2367/2367 [00:33<00:00, 71.65it/s]\n",
      "  stop: 100%|██████████████████████████████████████████████████████████████████████| 2380/2380 [00:32<00:00, 72.25it/s]\n",
      "  up: 100%|████████████████████████████████████████████████████████████████████████| 2375/2375 [00:33<00:00, 70.87it/s]\n",
      "  yes: 100%|███████████████████████████████████████████████████████████████████████| 2377/2377 [00:33<00:00, 71.76it/s]\n"
     ]
    },
    {
     "name": "stdout",
     "output_type": "stream",
     "text": [
      "Processing win=40ms, overlap=50%\n"
     ]
    },
    {
     "name": "stderr",
     "output_type": "stream",
     "text": [
      "  down: 100%|██████████████████████████████████████████████████████████████████████| 2359/2359 [00:34<00:00, 68.49it/s]\n",
      "  go: 100%|████████████████████████████████████████████████████████████████████████| 2372/2372 [00:37<00:00, 63.52it/s]\n",
      "  left: 100%|██████████████████████████████████████████████████████████████████████| 2353/2353 [00:35<00:00, 66.78it/s]\n",
      "  no: 100%|████████████████████████████████████████████████████████████████████████| 2375/2375 [00:35<00:00, 67.59it/s]\n",
      "  off: 100%|███████████████████████████████████████████████████████████████████████| 2357/2357 [00:35<00:00, 65.69it/s]\n",
      "  on: 100%|████████████████████████████████████████████████████████████████████████| 2367/2367 [00:35<00:00, 66.18it/s]\n",
      "  right: 100%|█████████████████████████████████████████████████████████████████████| 2367/2367 [00:34<00:00, 67.78it/s]\n",
      "  stop: 100%|██████████████████████████████████████████████████████████████████████| 2380/2380 [00:38<00:00, 61.22it/s]\n",
      "  up: 100%|████████████████████████████████████████████████████████████████████████| 2375/2375 [25:25<00:00,  1.56it/s]\n",
      "  yes: 100%|███████████████████████████████████████████████████████████████████████| 2377/2377 [00:24<00:00, 98.35it/s]\n"
     ]
    },
    {
     "name": "stdout",
     "output_type": "stream",
     "text": [
      "Processing win=40ms, overlap=75%\n"
     ]
    },
    {
     "name": "stderr",
     "output_type": "stream",
     "text": [
      "  down: 100%|██████████████████████████████████████████████████████████████████████| 2359/2359 [00:27<00:00, 87.32it/s]\n",
      "  go: 100%|████████████████████████████████████████████████████████████████████████| 2372/2372 [00:27<00:00, 85.95it/s]\n",
      "  left: 100%|██████████████████████████████████████████████████████████████████████| 2353/2353 [00:25<00:00, 92.98it/s]\n",
      "  no: 100%|████████████████████████████████████████████████████████████████████████| 2375/2375 [00:25<00:00, 94.02it/s]\n",
      "  off: 100%|███████████████████████████████████████████████████████████████████████| 2357/2357 [00:25<00:00, 93.43it/s]\n",
      "  on: 100%|████████████████████████████████████████████████████████████████████████| 2367/2367 [00:25<00:00, 93.87it/s]\n",
      "  right: 100%|█████████████████████████████████████████████████████████████████████| 2367/2367 [00:25<00:00, 93.63it/s]\n",
      "  stop: 100%|██████████████████████████████████████████████████████████████████████| 2380/2380 [00:25<00:00, 94.55it/s]\n",
      "  up: 100%|████████████████████████████████████████████████████████████████████████| 2375/2375 [00:25<00:00, 94.96it/s]\n",
      "  yes: 100%|███████████████████████████████████████████████████████████████████████| 2377/2377 [00:29<00:00, 80.39it/s]\n"
     ]
    },
    {
     "name": "stdout",
     "output_type": "stream",
     "text": [
      "Processing win=50ms, overlap=0%\n"
     ]
    },
    {
     "name": "stderr",
     "output_type": "stream",
     "text": [
      "  down: 100%|██████████████████████████████████████████████████████████████████████| 2359/2359 [00:37<00:00, 62.44it/s]\n",
      "  go: 100%|████████████████████████████████████████████████████████████████████████| 2372/2372 [00:33<00:00, 71.52it/s]\n",
      "  left: 100%|██████████████████████████████████████████████████████████████████████| 2353/2353 [00:33<00:00, 70.52it/s]\n",
      "  no: 100%|████████████████████████████████████████████████████████████████████████| 2375/2375 [00:29<00:00, 79.22it/s]\n",
      "  off: 100%|███████████████████████████████████████████████████████████████████████| 2357/2357 [00:28<00:00, 82.18it/s]\n",
      "  on: 100%|████████████████████████████████████████████████████████████████████████| 2367/2367 [00:31<00:00, 76.04it/s]\n",
      "  right: 100%|█████████████████████████████████████████████████████████████████████| 2367/2367 [00:32<00:00, 72.45it/s]\n",
      "  stop: 100%|██████████████████████████████████████████████████████████████████████| 2380/2380 [00:33<00:00, 71.57it/s]\n",
      "  up: 100%|████████████████████████████████████████████████████████████████████████| 2375/2375 [00:32<00:00, 72.58it/s]\n",
      "  yes: 100%|███████████████████████████████████████████████████████████████████████| 2377/2377 [00:30<00:00, 79.14it/s]\n"
     ]
    },
    {
     "name": "stdout",
     "output_type": "stream",
     "text": [
      "Processing win=50ms, overlap=25%\n"
     ]
    },
    {
     "name": "stderr",
     "output_type": "stream",
     "text": [
      "  down: 100%|██████████████████████████████████████████████████████████████████████| 2359/2359 [00:29<00:00, 80.77it/s]\n",
      "  go: 100%|████████████████████████████████████████████████████████████████████████| 2372/2372 [00:29<00:00, 80.99it/s]\n",
      "  left: 100%|██████████████████████████████████████████████████████████████████████| 2353/2353 [00:29<00:00, 79.50it/s]\n",
      "  no: 100%|████████████████████████████████████████████████████████████████████████| 2375/2375 [00:29<00:00, 81.40it/s]\n",
      "  off: 100%|███████████████████████████████████████████████████████████████████████| 2357/2357 [00:30<00:00, 77.31it/s]\n",
      "  on: 100%|████████████████████████████████████████████████████████████████████████| 2367/2367 [00:31<00:00, 74.22it/s]\n",
      "  right: 100%|█████████████████████████████████████████████████████████████████████| 2367/2367 [00:31<00:00, 74.48it/s]\n",
      "  stop: 100%|██████████████████████████████████████████████████████████████████████| 2380/2380 [00:32<00:00, 72.51it/s]\n",
      "  up: 100%|████████████████████████████████████████████████████████████████████████| 2375/2375 [00:32<00:00, 73.61it/s]\n",
      "  yes: 100%|███████████████████████████████████████████████████████████████████████| 2377/2377 [00:32<00:00, 73.07it/s]\n"
     ]
    },
    {
     "name": "stdout",
     "output_type": "stream",
     "text": [
      "Processing win=50ms, overlap=50%\n"
     ]
    },
    {
     "name": "stderr",
     "output_type": "stream",
     "text": [
      "  down: 100%|██████████████████████████████████████████████████████████████████████| 2359/2359 [00:32<00:00, 72.37it/s]\n",
      "  go: 100%|████████████████████████████████████████████████████████████████████████| 2372/2372 [00:32<00:00, 72.25it/s]\n",
      "  left: 100%|██████████████████████████████████████████████████████████████████████| 2353/2353 [00:33<00:00, 70.43it/s]\n",
      "  no: 100%|████████████████████████████████████████████████████████████████████████| 2375/2375 [00:32<00:00, 72.10it/s]\n",
      "  off: 100%|███████████████████████████████████████████████████████████████████████| 2357/2357 [00:33<00:00, 71.19it/s]\n",
      "  on: 100%|████████████████████████████████████████████████████████████████████████| 2367/2367 [00:33<00:00, 71.12it/s]\n",
      "  right: 100%|█████████████████████████████████████████████████████████████████████| 2367/2367 [00:32<00:00, 71.77it/s]\n",
      "  stop: 100%|██████████████████████████████████████████████████████████████████████| 2380/2380 [00:33<00:00, 71.62it/s]\n",
      "  up: 100%|████████████████████████████████████████████████████████████████████████| 2375/2375 [00:33<00:00, 71.70it/s]\n",
      "  yes: 100%|███████████████████████████████████████████████████████████████████████| 2377/2377 [00:33<00:00, 70.97it/s]\n"
     ]
    },
    {
     "name": "stdout",
     "output_type": "stream",
     "text": [
      "Processing win=50ms, overlap=75%\n"
     ]
    },
    {
     "name": "stderr",
     "output_type": "stream",
     "text": [
      "  down: 100%|██████████████████████████████████████████████████████████████████████| 2359/2359 [00:36<00:00, 64.34it/s]\n",
      "  go: 100%|████████████████████████████████████████████████████████████████████████| 2372/2372 [00:36<00:00, 64.44it/s]\n",
      "  left: 100%|██████████████████████████████████████████████████████████████████████| 2353/2353 [00:37<00:00, 63.49it/s]\n",
      "  no: 100%|████████████████████████████████████████████████████████████████████████| 2375/2375 [00:42<00:00, 55.76it/s]\n",
      "  off: 100%|███████████████████████████████████████████████████████████████████████| 2357/2357 [00:36<00:00, 63.83it/s]\n",
      "  on: 100%|████████████████████████████████████████████████████████████████████████| 2367/2367 [00:37<00:00, 62.91it/s]\n",
      "  right: 100%|█████████████████████████████████████████████████████████████████████| 2367/2367 [00:40<00:00, 58.93it/s]\n",
      "  stop: 100%|██████████████████████████████████████████████████████████████████████| 2380/2380 [00:50<00:00, 47.52it/s]\n",
      "  up: 100%|████████████████████████████████████████████████████████████████████████| 2375/2375 [00:41<00:00, 56.73it/s]\n",
      "  yes: 100%|███████████████████████████████████████████████████████████████████████| 2377/2377 [00:39<00:00, 60.43it/s]\n"
     ]
    },
    {
     "name": "stdout",
     "output_type": "stream",
     "text": [
      "Processing win=60ms, overlap=0%\n"
     ]
    },
    {
     "name": "stderr",
     "output_type": "stream",
     "text": [
      "  down: 100%|█████████████████████████████████████████████████████████████████████| 2359/2359 [00:16<00:00, 140.81it/s]\n",
      "  go: 100%|███████████████████████████████████████████████████████████████████████| 2372/2372 [00:16<00:00, 143.30it/s]\n",
      "  left: 100%|█████████████████████████████████████████████████████████████████████| 2353/2353 [00:15<00:00, 150.19it/s]\n",
      "  no: 100%|███████████████████████████████████████████████████████████████████████| 2375/2375 [00:15<00:00, 149.22it/s]\n",
      "  off: 100%|██████████████████████████████████████████████████████████████████████| 2357/2357 [00:15<00:00, 151.60it/s]\n",
      "  on: 100%|███████████████████████████████████████████████████████████████████████| 2367/2367 [00:15<00:00, 151.23it/s]\n",
      "  right: 100%|████████████████████████████████████████████████████████████████████| 2367/2367 [00:15<00:00, 149.67it/s]\n",
      "  stop: 100%|█████████████████████████████████████████████████████████████████████| 2380/2380 [00:16<00:00, 148.63it/s]\n",
      "  up: 100%|███████████████████████████████████████████████████████████████████████| 2375/2375 [00:15<00:00, 150.24it/s]\n",
      "  yes: 100%|██████████████████████████████████████████████████████████████████████| 2377/2377 [00:15<00:00, 151.52it/s]\n"
     ]
    },
    {
     "name": "stdout",
     "output_type": "stream",
     "text": [
      "Processing win=60ms, overlap=25%\n"
     ]
    },
    {
     "name": "stderr",
     "output_type": "stream",
     "text": [
      "  down: 100%|█████████████████████████████████████████████████████████████████████| 2359/2359 [00:18<00:00, 130.82it/s]\n",
      "  go: 100%|███████████████████████████████████████████████████████████████████████| 2372/2372 [00:17<00:00, 132.33it/s]\n",
      "  left: 100%|█████████████████████████████████████████████████████████████████████| 2353/2353 [00:16<00:00, 143.20it/s]\n",
      "  no: 100%|███████████████████████████████████████████████████████████████████████| 2375/2375 [00:16<00:00, 142.66it/s]\n",
      "  off: 100%|██████████████████████████████████████████████████████████████████████| 2357/2357 [00:16<00:00, 142.64it/s]\n",
      "  on: 100%|███████████████████████████████████████████████████████████████████████| 2367/2367 [00:16<00:00, 144.26it/s]\n",
      "  right: 100%|████████████████████████████████████████████████████████████████████| 2367/2367 [00:16<00:00, 144.08it/s]\n",
      "  stop: 100%|█████████████████████████████████████████████████████████████████████| 2380/2380 [00:16<00:00, 144.82it/s]\n",
      "  up: 100%|███████████████████████████████████████████████████████████████████████| 2375/2375 [00:16<00:00, 144.30it/s]\n",
      "  yes: 100%|██████████████████████████████████████████████████████████████████████| 2377/2377 [00:16<00:00, 142.94it/s]\n"
     ]
    },
    {
     "name": "stdout",
     "output_type": "stream",
     "text": [
      "Processing win=60ms, overlap=50%\n"
     ]
    },
    {
     "name": "stderr",
     "output_type": "stream",
     "text": [
      "  down: 100%|█████████████████████████████████████████████████████████████████████| 2359/2359 [00:16<00:00, 142.12it/s]\n",
      "  go: 100%|███████████████████████████████████████████████████████████████████████| 2372/2372 [00:17<00:00, 139.32it/s]\n",
      "  left: 100%|█████████████████████████████████████████████████████████████████████| 2353/2353 [00:17<00:00, 131.23it/s]\n",
      "  no: 100%|███████████████████████████████████████████████████████████████████████| 2375/2375 [00:16<00:00, 140.67it/s]\n",
      "  off: 100%|██████████████████████████████████████████████████████████████████████| 2357/2357 [00:16<00:00, 142.79it/s]\n",
      "  on: 100%|███████████████████████████████████████████████████████████████████████| 2367/2367 [00:16<00:00, 143.26it/s]\n",
      "  right: 100%|████████████████████████████████████████████████████████████████████| 2367/2367 [00:16<00:00, 143.96it/s]\n",
      "  stop: 100%|█████████████████████████████████████████████████████████████████████| 2380/2380 [00:16<00:00, 144.67it/s]\n",
      "  up: 100%|███████████████████████████████████████████████████████████████████████| 2375/2375 [00:16<00:00, 142.86it/s]\n",
      "  yes: 100%|██████████████████████████████████████████████████████████████████████| 2377/2377 [00:16<00:00, 141.54it/s]\n"
     ]
    },
    {
     "name": "stdout",
     "output_type": "stream",
     "text": [
      "Processing win=60ms, overlap=75%\n"
     ]
    },
    {
     "name": "stderr",
     "output_type": "stream",
     "text": [
      "  down: 100%|█████████████████████████████████████████████████████████████████████| 2359/2359 [00:17<00:00, 134.25it/s]\n",
      "  go: 100%|███████████████████████████████████████████████████████████████████████| 2372/2372 [00:17<00:00, 132.67it/s]\n",
      "  left: 100%|█████████████████████████████████████████████████████████████████████| 2353/2353 [00:17<00:00, 134.58it/s]\n",
      "  no: 100%|███████████████████████████████████████████████████████████████████████| 2375/2375 [00:17<00:00, 132.80it/s]\n",
      "  off: 100%|██████████████████████████████████████████████████████████████████████| 2357/2357 [00:17<00:00, 132.75it/s]\n",
      "  on: 100%|███████████████████████████████████████████████████████████████████████| 2367/2367 [00:17<00:00, 133.99it/s]\n",
      "  right: 100%|████████████████████████████████████████████████████████████████████| 2367/2367 [00:17<00:00, 133.63it/s]\n",
      "  stop: 100%|█████████████████████████████████████████████████████████████████████| 2380/2380 [00:18<00:00, 130.23it/s]\n",
      "  up: 100%|███████████████████████████████████████████████████████████████████████| 2375/2375 [00:17<00:00, 132.62it/s]\n",
      "  yes: 100%|██████████████████████████████████████████████████████████████████████| 2377/2377 [00:19<00:00, 119.02it/s]\n"
     ]
    },
    {
     "name": "stdout",
     "output_type": "stream",
     "text": [
      "Processing win=70ms, overlap=0%\n"
     ]
    },
    {
     "name": "stderr",
     "output_type": "stream",
     "text": [
      "  down: 100%|█████████████████████████████████████████████████████████████████████| 2359/2359 [00:22<00:00, 103.47it/s]\n",
      "  go: 100%|███████████████████████████████████████████████████████████████████████| 2372/2372 [00:20<00:00, 113.25it/s]\n",
      "  left: 100%|█████████████████████████████████████████████████████████████████████| 2353/2353 [00:20<00:00, 112.97it/s]\n",
      "  no: 100%|███████████████████████████████████████████████████████████████████████| 2375/2375 [00:20<00:00, 113.19it/s]\n",
      "  off: 100%|██████████████████████████████████████████████████████████████████████| 2357/2357 [00:21<00:00, 112.14it/s]\n",
      "  on: 100%|███████████████████████████████████████████████████████████████████████| 2367/2367 [00:20<00:00, 113.45it/s]\n",
      "  right: 100%|████████████████████████████████████████████████████████████████████| 2367/2367 [00:20<00:00, 114.49it/s]\n",
      "  stop: 100%|█████████████████████████████████████████████████████████████████████| 2380/2380 [00:20<00:00, 113.84it/s]\n",
      "  up: 100%|███████████████████████████████████████████████████████████████████████| 2375/2375 [00:21<00:00, 113.03it/s]\n",
      "  yes: 100%|██████████████████████████████████████████████████████████████████████| 2377/2377 [00:20<00:00, 113.71it/s]\n"
     ]
    },
    {
     "name": "stdout",
     "output_type": "stream",
     "text": [
      "Processing win=70ms, overlap=25%\n"
     ]
    },
    {
     "name": "stderr",
     "output_type": "stream",
     "text": [
      "  down: 100%|█████████████████████████████████████████████████████████████████████| 2359/2359 [00:21<00:00, 111.97it/s]\n",
      "  go: 100%|███████████████████████████████████████████████████████████████████████| 2372/2372 [00:19<00:00, 119.23it/s]\n",
      "  left: 100%|█████████████████████████████████████████████████████████████████████| 2353/2353 [00:19<00:00, 118.64it/s]\n",
      "  no: 100%|███████████████████████████████████████████████████████████████████████| 2375/2375 [00:19<00:00, 118.95it/s]\n",
      "  off: 100%|██████████████████████████████████████████████████████████████████████| 2357/2357 [00:19<00:00, 119.55it/s]\n",
      "  on: 100%|███████████████████████████████████████████████████████████████████████| 2367/2367 [00:19<00:00, 119.35it/s]\n",
      "  right: 100%|████████████████████████████████████████████████████████████████████| 2367/2367 [00:19<00:00, 118.71it/s]\n",
      "  stop: 100%|█████████████████████████████████████████████████████████████████████| 2380/2380 [00:20<00:00, 118.60it/s]\n",
      "  up: 100%|███████████████████████████████████████████████████████████████████████| 2375/2375 [00:20<00:00, 117.38it/s]\n",
      "  yes: 100%|██████████████████████████████████████████████████████████████████████| 2377/2377 [00:20<00:00, 118.22it/s]\n"
     ]
    },
    {
     "name": "stdout",
     "output_type": "stream",
     "text": [
      "Processing win=70ms, overlap=50%\n"
     ]
    },
    {
     "name": "stderr",
     "output_type": "stream",
     "text": [
      "  down: 100%|█████████████████████████████████████████████████████████████████████| 2359/2359 [00:20<00:00, 114.85it/s]\n",
      "  go: 100%|███████████████████████████████████████████████████████████████████████| 2372/2372 [00:20<00:00, 113.76it/s]\n",
      "  left: 100%|█████████████████████████████████████████████████████████████████████| 2353/2353 [00:20<00:00, 112.84it/s]\n",
      "  no: 100%|███████████████████████████████████████████████████████████████████████| 2375/2375 [00:20<00:00, 113.35it/s]\n",
      "  off: 100%|██████████████████████████████████████████████████████████████████████| 2357/2357 [00:20<00:00, 112.82it/s]\n",
      "  on: 100%|███████████████████████████████████████████████████████████████████████| 2367/2367 [00:20<00:00, 113.68it/s]\n",
      "  right: 100%|████████████████████████████████████████████████████████████████████| 2367/2367 [00:20<00:00, 113.02it/s]\n",
      "  stop: 100%|█████████████████████████████████████████████████████████████████████| 2380/2380 [00:21<00:00, 113.18it/s]\n",
      "  up: 100%|███████████████████████████████████████████████████████████████████████| 2375/2375 [00:21<00:00, 112.21it/s]\n",
      "  yes: 100%|██████████████████████████████████████████████████████████████████████| 2377/2377 [00:21<00:00, 110.47it/s]\n"
     ]
    },
    {
     "name": "stdout",
     "output_type": "stream",
     "text": [
      "Processing win=70ms, overlap=75%\n"
     ]
    },
    {
     "name": "stderr",
     "output_type": "stream",
     "text": [
      "  down: 100%|█████████████████████████████████████████████████████████████████████| 2359/2359 [00:23<00:00, 101.58it/s]\n",
      "  go: 100%|███████████████████████████████████████████████████████████████████████| 2372/2372 [00:23<00:00, 101.71it/s]\n",
      "  left: 100%|██████████████████████████████████████████████████████████████████████| 2353/2353 [00:26<00:00, 89.86it/s]\n",
      "  no: 100%|████████████████████████████████████████████████████████████████████████| 2375/2375 [00:23<00:00, 99.84it/s]\n",
      "  off: 100%|███████████████████████████████████████████████████████████████████████| 2357/2357 [00:23<00:00, 99.37it/s]\n",
      "  on: 100%|███████████████████████████████████████████████████████████████████████| 2367/2367 [00:23<00:00, 100.68it/s]\n",
      "  right: 100%|████████████████████████████████████████████████████████████████████| 2367/2367 [00:23<00:00, 101.47it/s]\n",
      "  stop: 100%|█████████████████████████████████████████████████████████████████████| 2380/2380 [00:23<00:00, 100.37it/s]\n",
      "  up: 100%|███████████████████████████████████████████████████████████████████████| 2375/2375 [00:23<00:00, 100.45it/s]\n",
      "  yes: 100%|██████████████████████████████████████████████████████████████████████| 2377/2377 [00:23<00:00, 101.55it/s]\n"
     ]
    },
    {
     "name": "stdout",
     "output_type": "stream",
     "text": [
      "Processing win=80ms, overlap=0%\n"
     ]
    },
    {
     "name": "stderr",
     "output_type": "stream",
     "text": [
      "  down: 100%|█████████████████████████████████████████████████████████████████████| 2359/2359 [00:19<00:00, 121.13it/s]\n",
      "  go: 100%|███████████████████████████████████████████████████████████████████████| 2372/2372 [00:19<00:00, 119.27it/s]\n",
      "  left: 100%|█████████████████████████████████████████████████████████████████████| 2353/2353 [00:19<00:00, 122.29it/s]\n",
      "  no: 100%|███████████████████████████████████████████████████████████████████████| 2375/2375 [00:19<00:00, 123.47it/s]\n",
      "  off: 100%|██████████████████████████████████████████████████████████████████████| 2357/2357 [00:19<00:00, 123.01it/s]\n",
      "  on: 100%|███████████████████████████████████████████████████████████████████████| 2367/2367 [00:19<00:00, 123.99it/s]\n",
      "  right: 100%|████████████████████████████████████████████████████████████████████| 2367/2367 [00:19<00:00, 122.79it/s]\n",
      "  stop: 100%|█████████████████████████████████████████████████████████████████████| 2380/2380 [00:23<00:00, 102.53it/s]\n",
      "  up: 100%|███████████████████████████████████████████████████████████████████████| 2375/2375 [00:20<00:00, 115.30it/s]\n",
      "  yes: 100%|██████████████████████████████████████████████████████████████████████| 2377/2377 [00:20<00:00, 117.40it/s]\n"
     ]
    },
    {
     "name": "stdout",
     "output_type": "stream",
     "text": [
      "Processing win=80ms, overlap=25%\n"
     ]
    },
    {
     "name": "stderr",
     "output_type": "stream",
     "text": [
      "  down: 100%|█████████████████████████████████████████████████████████████████████| 2359/2359 [00:21<00:00, 111.31it/s]\n",
      "  go: 100%|███████████████████████████████████████████████████████████████████████| 2372/2372 [00:22<00:00, 105.36it/s]\n",
      "  left: 100%|██████████████████████████████████████████████████████████████████████| 2353/2353 [00:25<00:00, 92.27it/s]\n",
      "  no: 100%|████████████████████████████████████████████████████████████████████████| 2375/2375 [00:30<00:00, 76.65it/s]\n",
      "  off: 100%|███████████████████████████████████████████████████████████████████████| 2357/2357 [00:23<00:00, 98.27it/s]\n",
      "  on: 100%|███████████████████████████████████████████████████████████████████████| 2367/2367 [00:23<00:00, 101.03it/s]\n",
      "  right: 100%|████████████████████████████████████████████████████████████████████| 2367/2367 [00:23<00:00, 101.60it/s]\n",
      "  stop: 100%|█████████████████████████████████████████████████████████████████████| 2380/2380 [00:22<00:00, 105.43it/s]\n",
      "  up: 100%|███████████████████████████████████████████████████████████████████████| 2375/2375 [00:22<00:00, 104.15it/s]\n",
      "  yes: 100%|██████████████████████████████████████████████████████████████████████| 2377/2377 [00:22<00:00, 105.59it/s]\n"
     ]
    },
    {
     "name": "stdout",
     "output_type": "stream",
     "text": [
      "Processing win=80ms, overlap=50%\n"
     ]
    },
    {
     "name": "stderr",
     "output_type": "stream",
     "text": [
      "  down: 100%|█████████████████████████████████████████████████████████████████████| 2359/2359 [00:23<00:00, 100.86it/s]\n",
      "  go: 100%|███████████████████████████████████████████████████████████████████████| 2372/2372 [00:23<00:00, 101.06it/s]\n",
      "  left: 100%|█████████████████████████████████████████████████████████████████████| 2353/2353 [00:23<00:00, 101.48it/s]\n",
      "  no: 100%|███████████████████████████████████████████████████████████████████████| 2375/2375 [00:23<00:00, 100.01it/s]\n",
      "  off: 100%|███████████████████████████████████████████████████████████████████████| 2357/2357 [00:23<00:00, 99.09it/s]\n",
      "  on: 100%|████████████████████████████████████████████████████████████████████████| 2367/2367 [00:24<00:00, 98.36it/s]\n",
      "  right: 100%|█████████████████████████████████████████████████████████████████████| 2367/2367 [00:23<00:00, 98.67it/s]\n",
      "  stop: 100%|██████████████████████████████████████████████████████████████████████| 2380/2380 [00:24<00:00, 98.69it/s]\n",
      "  up: 100%|████████████████████████████████████████████████████████████████████████| 2375/2375 [00:24<00:00, 97.66it/s]\n",
      "  yes: 100%|███████████████████████████████████████████████████████████████████████| 2377/2377 [00:25<00:00, 94.48it/s]\n"
     ]
    },
    {
     "name": "stdout",
     "output_type": "stream",
     "text": [
      "Processing win=80ms, overlap=75%\n"
     ]
    },
    {
     "name": "stderr",
     "output_type": "stream",
     "text": [
      "  down: 100%|██████████████████████████████████████████████████████████████████████| 2359/2359 [00:26<00:00, 88.99it/s]\n",
      "  go: 100%|████████████████████████████████████████████████████████████████████████| 2372/2372 [00:26<00:00, 88.85it/s]\n",
      "  left: 100%|██████████████████████████████████████████████████████████████████████| 2353/2353 [00:26<00:00, 87.68it/s]\n",
      "  no: 100%|████████████████████████████████████████████████████████████████████████| 2375/2375 [00:27<00:00, 87.59it/s]\n",
      "  off: 100%|███████████████████████████████████████████████████████████████████████| 2357/2357 [00:26<00:00, 87.59it/s]\n",
      "  on: 100%|████████████████████████████████████████████████████████████████████████| 2367/2367 [00:26<00:00, 88.85it/s]\n",
      "  right: 100%|█████████████████████████████████████████████████████████████████████| 2367/2367 [00:27<00:00, 87.31it/s]\n",
      "  stop: 100%|██████████████████████████████████████████████████████████████████████| 2380/2380 [00:26<00:00, 88.38it/s]\n",
      "  up: 100%|████████████████████████████████████████████████████████████████████████| 2375/2375 [00:26<00:00, 88.28it/s]\n",
      "  yes: 100%|███████████████████████████████████████████████████████████████████████| 2377/2377 [00:26<00:00, 89.08it/s]\n"
     ]
    },
    {
     "name": "stdout",
     "output_type": "stream",
     "text": [
      "Processing win=90ms, overlap=0%\n"
     ]
    },
    {
     "name": "stderr",
     "output_type": "stream",
     "text": [
      "  down: 100%|█████████████████████████████████████████████████████████████████████| 2359/2359 [00:21<00:00, 108.74it/s]\n",
      "  go: 100%|███████████████████████████████████████████████████████████████████████| 2372/2372 [00:21<00:00, 108.24it/s]\n",
      "  left: 100%|█████████████████████████████████████████████████████████████████████| 2353/2353 [00:22<00:00, 106.91it/s]\n",
      "  no: 100%|███████████████████████████████████████████████████████████████████████| 2375/2375 [00:21<00:00, 109.30it/s]\n",
      "  off: 100%|██████████████████████████████████████████████████████████████████████| 2357/2357 [00:22<00:00, 106.34it/s]\n",
      "  on: 100%|███████████████████████████████████████████████████████████████████████| 2367/2367 [00:21<00:00, 107.64it/s]\n",
      "  right: 100%|████████████████████████████████████████████████████████████████████| 2367/2367 [00:21<00:00, 107.93it/s]\n",
      "  stop: 100%|█████████████████████████████████████████████████████████████████████| 2380/2380 [00:21<00:00, 109.52it/s]\n",
      "  up: 100%|███████████████████████████████████████████████████████████████████████| 2375/2375 [00:21<00:00, 108.15it/s]\n",
      "  yes: 100%|██████████████████████████████████████████████████████████████████████| 2377/2377 [00:21<00:00, 108.46it/s]\n"
     ]
    },
    {
     "name": "stdout",
     "output_type": "stream",
     "text": [
      "Processing win=90ms, overlap=25%\n"
     ]
    },
    {
     "name": "stderr",
     "output_type": "stream",
     "text": [
      "  down: 100%|█████████████████████████████████████████████████████████████████████| 2359/2359 [00:22<00:00, 103.09it/s]\n",
      "  go: 100%|███████████████████████████████████████████████████████████████████████| 2372/2372 [00:23<00:00, 101.99it/s]\n",
      "  left: 100%|█████████████████████████████████████████████████████████████████████| 2353/2353 [00:22<00:00, 104.51it/s]\n",
      "  no: 100%|███████████████████████████████████████████████████████████████████████| 2375/2375 [00:23<00:00, 102.91it/s]\n",
      "  off: 100%|██████████████████████████████████████████████████████████████████████| 2357/2357 [00:22<00:00, 106.28it/s]\n",
      "  on: 100%|███████████████████████████████████████████████████████████████████████| 2367/2367 [00:22<00:00, 106.41it/s]\n",
      "  right: 100%|████████████████████████████████████████████████████████████████████| 2367/2367 [00:22<00:00, 103.89it/s]\n",
      "  stop: 100%|█████████████████████████████████████████████████████████████████████| 2380/2380 [00:22<00:00, 105.83it/s]\n",
      "  up: 100%|███████████████████████████████████████████████████████████████████████| 2375/2375 [00:22<00:00, 105.29it/s]\n",
      "  yes: 100%|██████████████████████████████████████████████████████████████████████| 2377/2377 [00:22<00:00, 104.45it/s]\n"
     ]
    },
    {
     "name": "stdout",
     "output_type": "stream",
     "text": [
      "Processing win=90ms, overlap=50%\n"
     ]
    },
    {
     "name": "stderr",
     "output_type": "stream",
     "text": [
      "  down: 100%|█████████████████████████████████████████████████████████████████████| 2359/2359 [00:22<00:00, 102.68it/s]\n",
      "  go: 100%|████████████████████████████████████████████████████████████████████████| 2372/2372 [00:24<00:00, 97.05it/s]\n",
      "  left: 100%|██████████████████████████████████████████████████████████████████████| 2353/2353 [00:25<00:00, 92.28it/s]\n",
      "  no: 100%|████████████████████████████████████████████████████████████████████████| 2375/2375 [00:24<00:00, 98.42it/s]\n",
      "  off: 100%|███████████████████████████████████████████████████████████████████████| 2357/2357 [00:24<00:00, 97.86it/s]\n",
      "  on: 100%|████████████████████████████████████████████████████████████████████████| 2367/2367 [00:24<00:00, 98.14it/s]\n",
      "  right: 100%|█████████████████████████████████████████████████████████████████████| 2367/2367 [00:23<00:00, 98.94it/s]\n",
      "  stop: 100%|██████████████████████████████████████████████████████████████████████| 2380/2380 [00:24<00:00, 97.76it/s]\n",
      "  up: 100%|████████████████████████████████████████████████████████████████████████| 2375/2375 [00:29<00:00, 81.19it/s]\n",
      "  yes: 100%|███████████████████████████████████████████████████████████████████████| 2377/2377 [00:29<00:00, 81.11it/s]\n"
     ]
    },
    {
     "name": "stdout",
     "output_type": "stream",
     "text": [
      "Processing win=90ms, overlap=75%\n"
     ]
    },
    {
     "name": "stderr",
     "output_type": "stream",
     "text": [
      "  down: 100%|██████████████████████████████████████████████████████████████████████| 2359/2359 [00:32<00:00, 71.98it/s]\n",
      "  go: 100%|████████████████████████████████████████████████████████████████████████| 2372/2372 [00:38<00:00, 60.99it/s]\n",
      "  left: 100%|██████████████████████████████████████████████████████████████████████| 2353/2353 [00:27<00:00, 86.13it/s]\n",
      "  no: 100%|████████████████████████████████████████████████████████████████████████| 2375/2375 [00:27<00:00, 85.42it/s]\n",
      "  off: 100%|███████████████████████████████████████████████████████████████████████| 2357/2357 [00:27<00:00, 86.19it/s]\n",
      "  on: 100%|████████████████████████████████████████████████████████████████████████| 2367/2367 [00:28<00:00, 82.72it/s]\n",
      "  right: 100%|█████████████████████████████████████████████████████████████████████| 2367/2367 [00:29<00:00, 81.06it/s]\n",
      "  stop: 100%|██████████████████████████████████████████████████████████████████████| 2380/2380 [00:28<00:00, 84.06it/s]\n",
      "  up: 100%|████████████████████████████████████████████████████████████████████████| 2375/2375 [00:28<00:00, 83.70it/s]\n",
      "  yes: 100%|███████████████████████████████████████████████████████████████████████| 2377/2377 [00:28<00:00, 84.67it/s]\n"
     ]
    },
    {
     "name": "stdout",
     "output_type": "stream",
     "text": [
      "Processing win=100ms, overlap=0%\n"
     ]
    },
    {
     "name": "stderr",
     "output_type": "stream",
     "text": [
      "  down: 100%|█████████████████████████████████████████████████████████████████████| 2359/2359 [00:22<00:00, 103.30it/s]\n",
      "  go: 100%|███████████████████████████████████████████████████████████████████████| 2372/2372 [00:21<00:00, 107.84it/s]\n",
      "  left: 100%|█████████████████████████████████████████████████████████████████████| 2353/2353 [00:21<00:00, 107.47it/s]\n",
      "  no: 100%|███████████████████████████████████████████████████████████████████████| 2375/2375 [00:21<00:00, 108.99it/s]\n",
      "  off: 100%|██████████████████████████████████████████████████████████████████████| 2357/2357 [00:21<00:00, 107.60it/s]\n",
      "  on: 100%|███████████████████████████████████████████████████████████████████████| 2367/2367 [00:21<00:00, 108.94it/s]\n",
      "  right: 100%|████████████████████████████████████████████████████████████████████| 2367/2367 [00:22<00:00, 106.17it/s]\n",
      "  stop: 100%|█████████████████████████████████████████████████████████████████████| 2380/2380 [00:21<00:00, 108.29it/s]\n",
      "  up: 100%|███████████████████████████████████████████████████████████████████████| 2375/2375 [00:21<00:00, 108.14it/s]\n",
      "  yes: 100%|██████████████████████████████████████████████████████████████████████| 2377/2377 [00:22<00:00, 107.73it/s]\n"
     ]
    },
    {
     "name": "stdout",
     "output_type": "stream",
     "text": [
      "Processing win=100ms, overlap=25%\n"
     ]
    },
    {
     "name": "stderr",
     "output_type": "stream",
     "text": [
      "  down: 100%|█████████████████████████████████████████████████████████████████████| 2359/2359 [00:22<00:00, 105.81it/s]\n",
      "  go: 100%|███████████████████████████████████████████████████████████████████████| 2372/2372 [00:22<00:00, 106.78it/s]\n",
      "  left: 100%|█████████████████████████████████████████████████████████████████████| 2353/2353 [00:22<00:00, 106.02it/s]\n",
      "  no: 100%|███████████████████████████████████████████████████████████████████████| 2375/2375 [00:22<00:00, 106.44it/s]\n",
      "  off: 100%|██████████████████████████████████████████████████████████████████████| 2357/2357 [00:22<00:00, 103.88it/s]\n",
      "  on: 100%|███████████████████████████████████████████████████████████████████████| 2367/2367 [00:22<00:00, 106.06it/s]\n",
      "  right: 100%|████████████████████████████████████████████████████████████████████| 2367/2367 [00:22<00:00, 107.31it/s]\n",
      "  stop: 100%|█████████████████████████████████████████████████████████████████████| 2380/2380 [00:23<00:00, 103.01it/s]\n",
      "  up: 100%|███████████████████████████████████████████████████████████████████████| 2375/2375 [00:22<00:00, 107.24it/s]\n",
      "  yes: 100%|██████████████████████████████████████████████████████████████████████| 2377/2377 [00:22<00:00, 107.39it/s]\n"
     ]
    },
    {
     "name": "stdout",
     "output_type": "stream",
     "text": [
      "Processing win=100ms, overlap=50%\n"
     ]
    },
    {
     "name": "stderr",
     "output_type": "stream",
     "text": [
      "  down: 100%|█████████████████████████████████████████████████████████████████████| 2359/2359 [00:23<00:00, 101.68it/s]\n",
      "  go: 100%|███████████████████████████████████████████████████████████████████████| 2372/2372 [00:22<00:00, 104.06it/s]\n",
      "  left: 100%|█████████████████████████████████████████████████████████████████████| 2353/2353 [00:22<00:00, 104.32it/s]\n",
      "  no: 100%|███████████████████████████████████████████████████████████████████████| 2375/2375 [00:23<00:00, 102.59it/s]\n",
      "  off: 100%|██████████████████████████████████████████████████████████████████████| 2357/2357 [00:22<00:00, 104.64it/s]\n",
      "  on: 100%|███████████████████████████████████████████████████████████████████████| 2367/2367 [00:22<00:00, 103.33it/s]\n",
      "  right: 100%|████████████████████████████████████████████████████████████████████| 2367/2367 [00:22<00:00, 103.13it/s]\n",
      "  stop: 100%|█████████████████████████████████████████████████████████████████████| 2380/2380 [00:23<00:00, 102.92it/s]\n",
      "  up: 100%|███████████████████████████████████████████████████████████████████████| 2375/2375 [00:23<00:00, 102.75it/s]\n",
      "  yes: 100%|██████████████████████████████████████████████████████████████████████| 2377/2377 [00:23<00:00, 102.03it/s]\n"
     ]
    },
    {
     "name": "stdout",
     "output_type": "stream",
     "text": [
      "Processing win=100ms, overlap=75%\n"
     ]
    },
    {
     "name": "stderr",
     "output_type": "stream",
     "text": [
      "  down: 100%|██████████████████████████████████████████████████████████████████████| 2359/2359 [00:25<00:00, 93.57it/s]\n",
      "  go: 100%|████████████████████████████████████████████████████████████████████████| 2372/2372 [00:25<00:00, 93.20it/s]\n",
      "  left: 100%|██████████████████████████████████████████████████████████████████████| 2353/2353 [00:25<00:00, 92.09it/s]\n",
      "  no: 100%|████████████████████████████████████████████████████████████████████████| 2375/2375 [00:25<00:00, 91.68it/s]\n",
      "  off: 100%|███████████████████████████████████████████████████████████████████████| 2357/2357 [00:28<00:00, 83.75it/s]\n",
      "  on: 100%|████████████████████████████████████████████████████████████████████████| 2367/2367 [00:28<00:00, 82.73it/s]\n",
      "  right: 100%|█████████████████████████████████████████████████████████████████████| 2367/2367 [00:27<00:00, 87.27it/s]\n",
      "  stop: 100%|██████████████████████████████████████████████████████████████████████| 2380/2380 [00:27<00:00, 88.09it/s]\n",
      "  up: 100%|████████████████████████████████████████████████████████████████████████| 2375/2375 [00:27<00:00, 85.61it/s]\n",
      "  yes: 100%|███████████████████████████████████████████████████████████████████████| 2377/2377 [00:27<00:00, 87.11it/s]\n"
     ]
    }
   ],
   "source": [
    "import os\n",
    "import numpy as np\n",
    "import librosa\n",
    "from tqdm import tqdm\n",
    "\n",
    "# Parameters\n",
    "input_dir = \"data_clean\"\n",
    "output_base = \"features_mfcc\"\n",
    "window_lengths_ms = list(range(10, 101, 10))\n",
    "overlap_percents = [0.0, 0.25, 0.5, 0.75]\n",
    "sr = 16000  # sample rate\n",
    "\n",
    "def ms_to_samples(ms, sr=16000):\n",
    "    return int((ms / 1000) * sr)\n",
    "\n",
    "def extract_mfcc(y, sr, win_ms, overlap):\n",
    "    win_length = ms_to_samples(win_ms, sr)\n",
    "    hop_length = max(1, int(win_length * (1 - overlap)))\n",
    "    n_fft = 2 ** (win_length - 1).bit_length()\n",
    "    if win_length > n_fft:\n",
    "        raise ValueError(f\"Window length {win_length} > n_fft {n_fft}\")\n",
    "    mfcc = librosa.feature.mfcc(y=y, sr=sr, n_mfcc=13,\n",
    "                                n_fft=n_fft, hop_length=hop_length,\n",
    "                                win_length=win_length)\n",
    "    return mfcc\n",
    "\n",
    "# Loop through all configs and files\n",
    "for win_ms in window_lengths_ms:\n",
    "    for overlap in overlap_percents:\n",
    "        print(f\"Processing win={win_ms}ms, overlap={int(overlap*100)}%\")\n",
    "        output_dir = f\"{output_base}/win_{win_ms}/overlap_{int(overlap*100)}\"\n",
    "        os.makedirs(output_dir, exist_ok=True)\n",
    "\n",
    "        for label in os.listdir(input_dir):\n",
    "            label_path = os.path.join(input_dir, label)\n",
    "            if not os.path.isdir(label_path):\n",
    "                continue\n",
    "\n",
    "            out_label_path = os.path.join(output_dir, label)\n",
    "            os.makedirs(out_label_path, exist_ok=True)\n",
    "\n",
    "            for i, file in enumerate(tqdm(os.listdir(label_path), desc=f\"  {label}\")):\n",
    "                if file.endswith('.wav'):\n",
    "                    file_path = os.path.join(label_path, file)\n",
    "                    y, _ = librosa.load(file_path, sr=sr)\n",
    "                    try:\n",
    "                        mfcc = extract_mfcc(y, sr, win_ms, overlap)\n",
    "                        out_file = os.path.join(out_label_path, f\"{i:05}.npy\")\n",
    "                        np.save(out_file, mfcc)\n",
    "                    except Exception as e:\n",
    "                        print(f\"    Skipped {file}: {e}\")\n"
   ]
  },
  {
   "cell_type": "code",
   "execution_count": 14,
   "id": "179b3520-32f1-47ad-82f6-81a1a8b4e41b",
   "metadata": {},
   "outputs": [
    {
     "name": "stdout",
     "output_type": "stream",
     "text": [
      "Processing Mel: win=10ms, overlap=0%\n"
     ]
    },
    {
     "name": "stderr",
     "output_type": "stream",
     "text": [
      "  down: 100%|█████████████████████████████████████████████████████████████████████| 2359/2359 [00:20<00:00, 113.44it/s]\n",
      "  go: 100%|███████████████████████████████████████████████████████████████████████| 2372/2372 [00:17<00:00, 132.01it/s]\n",
      "  left: 100%|█████████████████████████████████████████████████████████████████████| 2353/2353 [00:16<00:00, 139.93it/s]\n",
      "  no: 100%|███████████████████████████████████████████████████████████████████████| 2375/2375 [00:17<00:00, 132.16it/s]\n",
      "  off: 100%|██████████████████████████████████████████████████████████████████████| 2357/2357 [00:20<00:00, 113.10it/s]\n",
      "  on: 100%|███████████████████████████████████████████████████████████████████████| 2367/2367 [00:20<00:00, 116.32it/s]\n",
      "  right: 100%|████████████████████████████████████████████████████████████████████| 2367/2367 [00:17<00:00, 134.56it/s]\n",
      "  stop: 100%|█████████████████████████████████████████████████████████████████████| 2380/2380 [00:16<00:00, 145.88it/s]\n",
      "  up: 100%|███████████████████████████████████████████████████████████████████████| 2375/2375 [00:15<00:00, 154.06it/s]\n",
      "  yes: 100%|██████████████████████████████████████████████████████████████████████| 2377/2377 [00:14<00:00, 159.62it/s]\n"
     ]
    },
    {
     "name": "stdout",
     "output_type": "stream",
     "text": [
      "Processing Mel: win=10ms, overlap=25%\n"
     ]
    },
    {
     "name": "stderr",
     "output_type": "stream",
     "text": [
      "  down: 100%|█████████████████████████████████████████████████████████████████████| 2359/2359 [00:15<00:00, 149.84it/s]\n",
      "  go: 100%|███████████████████████████████████████████████████████████████████████| 2372/2372 [00:16<00:00, 144.18it/s]\n",
      "  left: 100%|█████████████████████████████████████████████████████████████████████| 2353/2353 [00:15<00:00, 154.28it/s]\n",
      "  no: 100%|███████████████████████████████████████████████████████████████████████| 2375/2375 [00:15<00:00, 151.74it/s]\n",
      "  off: 100%|██████████████████████████████████████████████████████████████████████| 2357/2357 [00:15<00:00, 154.60it/s]\n",
      "  on: 100%|███████████████████████████████████████████████████████████████████████| 2367/2367 [00:15<00:00, 151.54it/s]\n",
      "  right: 100%|████████████████████████████████████████████████████████████████████| 2367/2367 [00:15<00:00, 154.88it/s]\n",
      "  stop: 100%|█████████████████████████████████████████████████████████████████████| 2380/2380 [00:15<00:00, 154.57it/s]\n",
      "  up: 100%|███████████████████████████████████████████████████████████████████████| 2375/2375 [00:15<00:00, 152.70it/s]\n",
      "  yes: 100%|██████████████████████████████████████████████████████████████████████| 2377/2377 [00:15<00:00, 156.17it/s]\n"
     ]
    },
    {
     "name": "stdout",
     "output_type": "stream",
     "text": [
      "Processing Mel: win=10ms, overlap=50%\n"
     ]
    },
    {
     "name": "stderr",
     "output_type": "stream",
     "text": [
      "  down: 100%|█████████████████████████████████████████████████████████████████████| 2359/2359 [00:17<00:00, 133.45it/s]\n",
      "  go: 100%|███████████████████████████████████████████████████████████████████████| 2372/2372 [00:15<00:00, 151.68it/s]\n",
      "  left: 100%|█████████████████████████████████████████████████████████████████████| 2353/2353 [00:17<00:00, 136.49it/s]\n",
      "  no: 100%|███████████████████████████████████████████████████████████████████████| 2375/2375 [00:16<00:00, 144.58it/s]\n",
      "  off: 100%|██████████████████████████████████████████████████████████████████████| 2357/2357 [00:15<00:00, 150.11it/s]\n",
      "  on: 100%|███████████████████████████████████████████████████████████████████████| 2367/2367 [00:15<00:00, 147.96it/s]\n",
      "  right: 100%|████████████████████████████████████████████████████████████████████| 2367/2367 [00:16<00:00, 146.56it/s]\n",
      "  stop: 100%|█████████████████████████████████████████████████████████████████████| 2380/2380 [00:16<00:00, 146.65it/s]\n",
      "  up: 100%|███████████████████████████████████████████████████████████████████████| 2375/2375 [00:15<00:00, 150.22it/s]\n",
      "  yes: 100%|██████████████████████████████████████████████████████████████████████| 2377/2377 [00:16<00:00, 144.85it/s]\n"
     ]
    },
    {
     "name": "stdout",
     "output_type": "stream",
     "text": [
      "Processing Mel: win=10ms, overlap=75%\n"
     ]
    },
    {
     "name": "stderr",
     "output_type": "stream",
     "text": [
      "  down: 100%|█████████████████████████████████████████████████████████████████████| 2359/2359 [00:18<00:00, 126.26it/s]\n",
      "  go: 100%|███████████████████████████████████████████████████████████████████████| 2372/2372 [00:18<00:00, 126.58it/s]\n",
      "  left: 100%|█████████████████████████████████████████████████████████████████████| 2353/2353 [00:18<00:00, 127.01it/s]\n",
      "  no: 100%|███████████████████████████████████████████████████████████████████████| 2375/2375 [00:18<00:00, 128.44it/s]\n",
      "  off: 100%|██████████████████████████████████████████████████████████████████████| 2357/2357 [00:18<00:00, 125.41it/s]\n",
      "  on: 100%|███████████████████████████████████████████████████████████████████████| 2367/2367 [00:19<00:00, 122.31it/s]\n",
      "  right: 100%|████████████████████████████████████████████████████████████████████| 2367/2367 [00:18<00:00, 126.98it/s]\n",
      "  stop: 100%|█████████████████████████████████████████████████████████████████████| 2380/2380 [00:18<00:00, 128.40it/s]\n",
      "  up: 100%|███████████████████████████████████████████████████████████████████████| 2375/2375 [00:18<00:00, 127.62it/s]\n",
      "  yes: 100%|██████████████████████████████████████████████████████████████████████| 2377/2377 [00:18<00:00, 130.19it/s]\n"
     ]
    },
    {
     "name": "stdout",
     "output_type": "stream",
     "text": [
      "Processing Mel: win=20ms, overlap=0%\n"
     ]
    },
    {
     "name": "stderr",
     "output_type": "stream",
     "text": [
      "  down: 100%|█████████████████████████████████████████████████████████████████████| 2359/2359 [00:15<00:00, 154.98it/s]\n",
      "  go: 100%|███████████████████████████████████████████████████████████████████████| 2372/2372 [00:14<00:00, 161.51it/s]\n",
      "  left: 100%|█████████████████████████████████████████████████████████████████████| 2353/2353 [00:14<00:00, 159.22it/s]\n",
      "  no: 100%|███████████████████████████████████████████████████████████████████████| 2375/2375 [00:14<00:00, 161.34it/s]\n",
      "  off: 100%|██████████████████████████████████████████████████████████████████████| 2357/2357 [00:14<00:00, 163.13it/s]\n",
      "  on: 100%|███████████████████████████████████████████████████████████████████████| 2367/2367 [00:14<00:00, 158.54it/s]\n",
      "  right: 100%|████████████████████████████████████████████████████████████████████| 2367/2367 [00:15<00:00, 156.36it/s]\n",
      "  stop: 100%|█████████████████████████████████████████████████████████████████████| 2380/2380 [00:15<00:00, 157.55it/s]\n",
      "  up: 100%|███████████████████████████████████████████████████████████████████████| 2375/2375 [00:14<00:00, 164.36it/s]\n",
      "  yes: 100%|██████████████████████████████████████████████████████████████████████| 2377/2377 [00:15<00:00, 155.93it/s]\n"
     ]
    },
    {
     "name": "stdout",
     "output_type": "stream",
     "text": [
      "Processing Mel: win=20ms, overlap=25%\n"
     ]
    },
    {
     "name": "stderr",
     "output_type": "stream",
     "text": [
      "  down: 100%|█████████████████████████████████████████████████████████████████████| 2359/2359 [00:15<00:00, 156.87it/s]\n",
      "  go: 100%|███████████████████████████████████████████████████████████████████████| 2372/2372 [00:15<00:00, 155.18it/s]\n",
      "  left: 100%|█████████████████████████████████████████████████████████████████████| 2353/2353 [00:14<00:00, 161.86it/s]\n",
      "  no: 100%|███████████████████████████████████████████████████████████████████████| 2375/2375 [00:16<00:00, 141.51it/s]\n",
      "  off: 100%|███████████████████████████████████████████████████████████████████████| 2357/2357 [00:26<00:00, 89.08it/s]\n",
      "  on: 100%|████████████████████████████████████████████████████████████████████████| 2367/2367 [00:25<00:00, 92.28it/s]\n",
      "  right: 100%|████████████████████████████████████████████████████████████████████| 2367/2367 [00:16<00:00, 139.25it/s]\n",
      "  stop: 100%|█████████████████████████████████████████████████████████████████████| 2380/2380 [00:16<00:00, 148.01it/s]\n",
      "  up: 100%|███████████████████████████████████████████████████████████████████████| 2375/2375 [00:15<00:00, 152.09it/s]\n",
      "  yes: 100%|██████████████████████████████████████████████████████████████████████| 2377/2377 [00:15<00:00, 151.42it/s]\n"
     ]
    },
    {
     "name": "stdout",
     "output_type": "stream",
     "text": [
      "Processing Mel: win=20ms, overlap=50%\n"
     ]
    },
    {
     "name": "stderr",
     "output_type": "stream",
     "text": [
      "  down: 100%|██████████████████████████████████████████████████████████████████████| 2359/2359 [00:33<00:00, 71.22it/s]\n",
      "  go: 100%|███████████████████████████████████████████████████████████████████████| 2372/2372 [00:23<00:00, 102.53it/s]\n",
      "  left: 100%|██████████████████████████████████████████████████████████████████████| 2353/2353 [00:24<00:00, 97.43it/s]\n",
      "  no: 100%|███████████████████████████████████████████████████████████████████████| 2375/2375 [00:18<00:00, 130.08it/s]\n",
      "  off: 100%|██████████████████████████████████████████████████████████████████████| 2357/2357 [00:21<00:00, 109.48it/s]\n",
      "  on: 100%|████████████████████████████████████████████████████████████████████████| 2367/2367 [00:28<00:00, 82.81it/s]\n",
      "  right: 100%|█████████████████████████████████████████████████████████████████████| 2367/2367 [00:34<00:00, 68.90it/s]\n",
      "  stop: 100%|██████████████████████████████████████████████████████████████████████| 2380/2380 [00:26<00:00, 89.97it/s]\n",
      "  up: 100%|███████████████████████████████████████████████████████████████████████| 2375/2375 [00:16<00:00, 145.66it/s]\n",
      "  yes: 100%|██████████████████████████████████████████████████████████████████████| 2377/2377 [00:20<00:00, 116.67it/s]\n"
     ]
    },
    {
     "name": "stdout",
     "output_type": "stream",
     "text": [
      "Processing Mel: win=20ms, overlap=75%\n"
     ]
    },
    {
     "name": "stderr",
     "output_type": "stream",
     "text": [
      "  down: 100%|██████████████████████████████████████████████████████████████████████| 2359/2359 [00:23<00:00, 99.15it/s]\n",
      "  go: 100%|████████████████████████████████████████████████████████████████████████| 2372/2372 [00:25<00:00, 91.81it/s]\n",
      "  left: 100%|█████████████████████████████████████████████████████████████████████| 2353/2353 [00:22<00:00, 105.20it/s]\n",
      "  no: 100%|████████████████████████████████████████████████████████████████████████| 2375/2375 [00:43<00:00, 54.92it/s]\n",
      "  off: 100%|███████████████████████████████████████████████████████████████████████| 2357/2357 [00:29<00:00, 79.25it/s]\n",
      "  on: 100%|███████████████████████████████████████████████████████████████████████| 2367/2367 [00:22<00:00, 103.64it/s]\n",
      "  right: 100%|████████████████████████████████████████████████████████████████████| 2367/2367 [00:20<00:00, 113.97it/s]\n",
      "  stop: 100%|█████████████████████████████████████████████████████████████████████| 2380/2380 [00:20<00:00, 115.22it/s]\n",
      "  up: 100%|███████████████████████████████████████████████████████████████████████| 2375/2375 [00:18<00:00, 125.40it/s]\n",
      "  yes: 100%|██████████████████████████████████████████████████████████████████████| 2377/2377 [00:19<00:00, 120.53it/s]\n"
     ]
    },
    {
     "name": "stdout",
     "output_type": "stream",
     "text": [
      "Processing Mel: win=30ms, overlap=0%\n"
     ]
    },
    {
     "name": "stderr",
     "output_type": "stream",
     "text": [
      "  down: 100%|█████████████████████████████████████████████████████████████████████| 2359/2359 [00:14<00:00, 160.83it/s]\n",
      "  go: 100%|███████████████████████████████████████████████████████████████████████| 2372/2372 [00:14<00:00, 164.20it/s]\n",
      "  left: 100%|█████████████████████████████████████████████████████████████████████| 2353/2353 [00:16<00:00, 146.34it/s]\n",
      "  no: 100%|███████████████████████████████████████████████████████████████████████| 2375/2375 [00:14<00:00, 158.78it/s]\n",
      "  off: 100%|██████████████████████████████████████████████████████████████████████| 2357/2357 [00:14<00:00, 160.31it/s]\n",
      "  on: 100%|███████████████████████████████████████████████████████████████████████| 2367/2367 [00:14<00:00, 160.14it/s]\n",
      "  right: 100%|████████████████████████████████████████████████████████████████████| 2367/2367 [00:14<00:00, 160.87it/s]\n",
      "  stop: 100%|█████████████████████████████████████████████████████████████████████| 2380/2380 [00:15<00:00, 149.21it/s]\n",
      "  up: 100%|███████████████████████████████████████████████████████████████████████| 2375/2375 [00:14<00:00, 164.07it/s]\n",
      "  yes: 100%|██████████████████████████████████████████████████████████████████████| 2377/2377 [00:14<00:00, 160.60it/s]\n"
     ]
    },
    {
     "name": "stdout",
     "output_type": "stream",
     "text": [
      "Processing Mel: win=30ms, overlap=25%\n"
     ]
    },
    {
     "name": "stderr",
     "output_type": "stream",
     "text": [
      "  down: 100%|█████████████████████████████████████████████████████████████████████| 2359/2359 [00:15<00:00, 152.17it/s]\n",
      "  go: 100%|███████████████████████████████████████████████████████████████████████| 2372/2372 [00:15<00:00, 157.35it/s]\n",
      "  left: 100%|█████████████████████████████████████████████████████████████████████| 2353/2353 [00:15<00:00, 153.25it/s]\n",
      "  no: 100%|███████████████████████████████████████████████████████████████████████| 2375/2375 [00:15<00:00, 153.98it/s]\n",
      "  off: 100%|██████████████████████████████████████████████████████████████████████| 2357/2357 [00:15<00:00, 156.68it/s]\n",
      "  on: 100%|███████████████████████████████████████████████████████████████████████| 2367/2367 [00:15<00:00, 148.73it/s]\n",
      "  right: 100%|████████████████████████████████████████████████████████████████████| 2367/2367 [00:15<00:00, 156.28it/s]\n",
      "  stop: 100%|█████████████████████████████████████████████████████████████████████| 2380/2380 [00:15<00:00, 153.09it/s]\n",
      "  up: 100%|███████████████████████████████████████████████████████████████████████| 2375/2375 [00:15<00:00, 152.57it/s]\n",
      "  yes: 100%|██████████████████████████████████████████████████████████████████████| 2377/2377 [00:15<00:00, 156.96it/s]\n"
     ]
    },
    {
     "name": "stdout",
     "output_type": "stream",
     "text": [
      "Processing Mel: win=30ms, overlap=50%\n"
     ]
    },
    {
     "name": "stderr",
     "output_type": "stream",
     "text": [
      "  down: 100%|█████████████████████████████████████████████████████████████████████| 2359/2359 [00:17<00:00, 135.42it/s]\n",
      "  go: 100%|███████████████████████████████████████████████████████████████████████| 2372/2372 [00:17<00:00, 139.16it/s]\n",
      "  left: 100%|█████████████████████████████████████████████████████████████████████| 2353/2353 [00:15<00:00, 151.58it/s]\n",
      "  no: 100%|███████████████████████████████████████████████████████████████████████| 2375/2375 [00:15<00:00, 150.11it/s]\n",
      "  off: 100%|██████████████████████████████████████████████████████████████████████| 2357/2357 [00:15<00:00, 150.78it/s]\n",
      "  on: 100%|███████████████████████████████████████████████████████████████████████| 2367/2367 [00:13<00:00, 179.06it/s]\n",
      "  right: 100%|████████████████████████████████████████████████████████████████████| 2367/2367 [00:13<00:00, 180.07it/s]\n",
      "  stop: 100%|█████████████████████████████████████████████████████████████████████| 2380/2380 [00:13<00:00, 178.40it/s]\n",
      "  up: 100%|███████████████████████████████████████████████████████████████████████| 2375/2375 [00:13<00:00, 175.95it/s]\n",
      "  yes: 100%|██████████████████████████████████████████████████████████████████████| 2377/2377 [00:13<00:00, 180.95it/s]\n"
     ]
    },
    {
     "name": "stdout",
     "output_type": "stream",
     "text": [
      "Processing Mel: win=30ms, overlap=75%\n"
     ]
    },
    {
     "name": "stderr",
     "output_type": "stream",
     "text": [
      "  down: 100%|█████████████████████████████████████████████████████████████████████| 2359/2359 [00:14<00:00, 162.32it/s]\n",
      "  go: 100%|███████████████████████████████████████████████████████████████████████| 2372/2372 [00:14<00:00, 160.84it/s]\n",
      "  left: 100%|█████████████████████████████████████████████████████████████████████| 2353/2353 [00:14<00:00, 157.03it/s]\n",
      "  no: 100%|███████████████████████████████████████████████████████████████████████| 2375/2375 [00:14<00:00, 158.86it/s]\n",
      "  off: 100%|██████████████████████████████████████████████████████████████████████| 2357/2357 [00:14<00:00, 160.38it/s]\n",
      "  on: 100%|███████████████████████████████████████████████████████████████████████| 2367/2367 [00:16<00:00, 147.54it/s]\n",
      "  right: 100%|████████████████████████████████████████████████████████████████████| 2367/2367 [00:16<00:00, 142.85it/s]\n",
      "  stop: 100%|█████████████████████████████████████████████████████████████████████| 2380/2380 [00:15<00:00, 152.42it/s]\n",
      "  up: 100%|███████████████████████████████████████████████████████████████████████| 2375/2375 [00:15<00:00, 151.97it/s]\n",
      "  yes: 100%|██████████████████████████████████████████████████████████████████████| 2377/2377 [00:14<00:00, 159.88it/s]\n"
     ]
    },
    {
     "name": "stdout",
     "output_type": "stream",
     "text": [
      "Processing Mel: win=40ms, overlap=0%\n"
     ]
    },
    {
     "name": "stderr",
     "output_type": "stream",
     "text": [
      "  down: 100%|█████████████████████████████████████████████████████████████████████| 2359/2359 [00:13<00:00, 168.75it/s]\n",
      "  go: 100%|███████████████████████████████████████████████████████████████████████| 2372/2372 [00:13<00:00, 176.64it/s]\n",
      "  left: 100%|█████████████████████████████████████████████████████████████████████| 2353/2353 [00:14<00:00, 164.33it/s]\n",
      "  no: 100%|███████████████████████████████████████████████████████████████████████| 2375/2375 [00:13<00:00, 180.74it/s]\n",
      "  off: 100%|██████████████████████████████████████████████████████████████████████| 2357/2357 [00:14<00:00, 161.55it/s]\n",
      "  on: 100%|███████████████████████████████████████████████████████████████████████| 2367/2367 [00:13<00:00, 175.38it/s]\n",
      "  right: 100%|████████████████████████████████████████████████████████████████████| 2367/2367 [00:13<00:00, 172.63it/s]\n",
      "  stop: 100%|█████████████████████████████████████████████████████████████████████| 2380/2380 [00:15<00:00, 157.67it/s]\n",
      "  up: 100%|███████████████████████████████████████████████████████████████████████| 2375/2375 [00:14<00:00, 169.55it/s]\n",
      "  yes: 100%|██████████████████████████████████████████████████████████████████████| 2377/2377 [00:13<00:00, 173.36it/s]\n"
     ]
    },
    {
     "name": "stdout",
     "output_type": "stream",
     "text": [
      "Processing Mel: win=40ms, overlap=25%\n"
     ]
    },
    {
     "name": "stderr",
     "output_type": "stream",
     "text": [
      "  down: 100%|█████████████████████████████████████████████████████████████████████| 2359/2359 [00:14<00:00, 166.21it/s]\n",
      "  go: 100%|███████████████████████████████████████████████████████████████████████| 2372/2372 [00:13<00:00, 180.80it/s]\n",
      "  left: 100%|█████████████████████████████████████████████████████████████████████| 2353/2353 [00:14<00:00, 161.08it/s]\n",
      "  no: 100%|███████████████████████████████████████████████████████████████████████| 2375/2375 [00:14<00:00, 159.58it/s]\n",
      "  off: 100%|██████████████████████████████████████████████████████████████████████| 2357/2357 [00:14<00:00, 167.53it/s]\n",
      "  on: 100%|███████████████████████████████████████████████████████████████████████| 2367/2367 [00:14<00:00, 161.00it/s]\n",
      "  right: 100%|████████████████████████████████████████████████████████████████████| 2367/2367 [00:14<00:00, 162.15it/s]\n",
      "  stop: 100%|█████████████████████████████████████████████████████████████████████| 2380/2380 [00:14<00:00, 159.38it/s]\n",
      "  up: 100%|███████████████████████████████████████████████████████████████████████| 2375/2375 [00:15<00:00, 150.41it/s]\n",
      "  yes: 100%|██████████████████████████████████████████████████████████████████████| 2377/2377 [00:13<00:00, 170.05it/s]\n"
     ]
    },
    {
     "name": "stdout",
     "output_type": "stream",
     "text": [
      "Processing Mel: win=40ms, overlap=50%\n"
     ]
    },
    {
     "name": "stderr",
     "output_type": "stream",
     "text": [
      "  down: 100%|█████████████████████████████████████████████████████████████████████| 2359/2359 [00:14<00:00, 158.39it/s]\n",
      "  go: 100%|███████████████████████████████████████████████████████████████████████| 2372/2372 [00:15<00:00, 155.00it/s]\n",
      "  left: 100%|█████████████████████████████████████████████████████████████████████| 2353/2353 [00:15<00:00, 152.88it/s]\n",
      "  no: 100%|███████████████████████████████████████████████████████████████████████| 2375/2375 [00:16<00:00, 143.70it/s]\n",
      "  off: 100%|██████████████████████████████████████████████████████████████████████| 2357/2357 [00:14<00:00, 158.78it/s]\n",
      "  on: 100%|███████████████████████████████████████████████████████████████████████| 2367/2367 [00:15<00:00, 157.04it/s]\n",
      "  right: 100%|████████████████████████████████████████████████████████████████████| 2367/2367 [00:15<00:00, 148.14it/s]\n",
      "  stop: 100%|█████████████████████████████████████████████████████████████████████| 2380/2380 [00:15<00:00, 150.21it/s]\n",
      "  up: 100%|███████████████████████████████████████████████████████████████████████| 2375/2375 [00:15<00:00, 155.86it/s]\n",
      "  yes: 100%|██████████████████████████████████████████████████████████████████████| 2377/2377 [00:16<00:00, 147.08it/s]\n"
     ]
    },
    {
     "name": "stdout",
     "output_type": "stream",
     "text": [
      "Processing Mel: win=40ms, overlap=75%\n"
     ]
    },
    {
     "name": "stderr",
     "output_type": "stream",
     "text": [
      "  down: 100%|█████████████████████████████████████████████████████████████████████| 2359/2359 [00:17<00:00, 131.66it/s]\n",
      "  go: 100%|███████████████████████████████████████████████████████████████████████| 2372/2372 [00:18<00:00, 127.60it/s]\n",
      "  left: 100%|██████████████████████████████████████████████████████████████████████| 2353/2353 [00:24<00:00, 94.63it/s]\n",
      "  no: 100%|███████████████████████████████████████████████████████████████████████| 2375/2375 [00:18<00:00, 126.39it/s]\n",
      "  off: 100%|██████████████████████████████████████████████████████████████████████| 2357/2357 [00:16<00:00, 146.13it/s]\n",
      "  on: 100%|███████████████████████████████████████████████████████████████████████| 2367/2367 [00:16<00:00, 146.14it/s]\n",
      "  right: 100%|████████████████████████████████████████████████████████████████████| 2367/2367 [00:16<00:00, 145.44it/s]\n",
      "  stop: 100%|█████████████████████████████████████████████████████████████████████| 2380/2380 [00:16<00:00, 145.52it/s]\n",
      "  up: 100%|███████████████████████████████████████████████████████████████████████| 2375/2375 [00:16<00:00, 145.70it/s]\n",
      "  yes: 100%|██████████████████████████████████████████████████████████████████████| 2377/2377 [00:17<00:00, 133.61it/s]\n"
     ]
    },
    {
     "name": "stdout",
     "output_type": "stream",
     "text": [
      "Processing Mel: win=50ms, overlap=0%\n"
     ]
    },
    {
     "name": "stderr",
     "output_type": "stream",
     "text": [
      "  down: 100%|█████████████████████████████████████████████████████████████████████| 2359/2359 [00:12<00:00, 183.85it/s]\n",
      "  go: 100%|███████████████████████████████████████████████████████████████████████| 2372/2372 [00:12<00:00, 186.88it/s]\n",
      "  left: 100%|█████████████████████████████████████████████████████████████████████| 2353/2353 [00:13<00:00, 179.78it/s]\n",
      "  no: 100%|███████████████████████████████████████████████████████████████████████| 2375/2375 [00:13<00:00, 179.81it/s]\n",
      "  off: 100%|██████████████████████████████████████████████████████████████████████| 2357/2357 [00:12<00:00, 184.33it/s]\n",
      "  on: 100%|███████████████████████████████████████████████████████████████████████| 2367/2367 [00:13<00:00, 181.97it/s]\n",
      "  right: 100%|████████████████████████████████████████████████████████████████████| 2367/2367 [00:12<00:00, 183.74it/s]\n",
      "  stop: 100%|█████████████████████████████████████████████████████████████████████| 2380/2380 [00:12<00:00, 183.78it/s]\n",
      "  up: 100%|███████████████████████████████████████████████████████████████████████| 2375/2375 [00:13<00:00, 174.18it/s]\n",
      "  yes: 100%|██████████████████████████████████████████████████████████████████████| 2377/2377 [00:13<00:00, 181.81it/s]\n"
     ]
    },
    {
     "name": "stdout",
     "output_type": "stream",
     "text": [
      "Processing Mel: win=50ms, overlap=25%\n"
     ]
    },
    {
     "name": "stderr",
     "output_type": "stream",
     "text": [
      "  down: 100%|█████████████████████████████████████████████████████████████████████| 2359/2359 [00:14<00:00, 168.01it/s]\n",
      "  go: 100%|███████████████████████████████████████████████████████████████████████| 2372/2372 [00:14<00:00, 163.75it/s]\n",
      "  left: 100%|█████████████████████████████████████████████████████████████████████| 2353/2353 [00:14<00:00, 162.89it/s]\n",
      "  no: 100%|███████████████████████████████████████████████████████████████████████| 2375/2375 [00:15<00:00, 154.97it/s]\n",
      "  off: 100%|██████████████████████████████████████████████████████████████████████| 2357/2357 [00:14<00:00, 166.81it/s]\n",
      "  on: 100%|███████████████████████████████████████████████████████████████████████| 2367/2367 [00:14<00:00, 166.50it/s]\n",
      "  right: 100%|████████████████████████████████████████████████████████████████████| 2367/2367 [00:14<00:00, 163.65it/s]\n",
      "  stop: 100%|█████████████████████████████████████████████████████████████████████| 2380/2380 [00:13<00:00, 173.84it/s]\n",
      "  up: 100%|███████████████████████████████████████████████████████████████████████| 2375/2375 [00:13<00:00, 179.02it/s]\n",
      "  yes: 100%|██████████████████████████████████████████████████████████████████████| 2377/2377 [00:13<00:00, 179.28it/s]\n"
     ]
    },
    {
     "name": "stdout",
     "output_type": "stream",
     "text": [
      "Processing Mel: win=50ms, overlap=50%\n"
     ]
    },
    {
     "name": "stderr",
     "output_type": "stream",
     "text": [
      "  down: 100%|█████████████████████████████████████████████████████████████████████| 2359/2359 [00:13<00:00, 169.74it/s]\n",
      "  go: 100%|███████████████████████████████████████████████████████████████████████| 2372/2372 [00:13<00:00, 170.17it/s]\n",
      "  left: 100%|█████████████████████████████████████████████████████████████████████| 2353/2353 [00:13<00:00, 172.09it/s]\n",
      "  no: 100%|███████████████████████████████████████████████████████████████████████| 2375/2375 [00:13<00:00, 174.06it/s]\n",
      "  off: 100%|██████████████████████████████████████████████████████████████████████| 2357/2357 [00:20<00:00, 114.31it/s]\n",
      "  on: 100%|███████████████████████████████████████████████████████████████████████| 2367/2367 [00:15<00:00, 152.57it/s]\n",
      "  right: 100%|████████████████████████████████████████████████████████████████████| 2367/2367 [00:15<00:00, 155.78it/s]\n",
      "  stop: 100%|█████████████████████████████████████████████████████████████████████| 2380/2380 [00:18<00:00, 125.54it/s]\n",
      "  up: 100%|███████████████████████████████████████████████████████████████████████| 2375/2375 [00:18<00:00, 130.57it/s]\n",
      "  yes: 100%|██████████████████████████████████████████████████████████████████████| 2377/2377 [00:16<00:00, 141.68it/s]\n"
     ]
    },
    {
     "name": "stdout",
     "output_type": "stream",
     "text": [
      "Processing Mel: win=50ms, overlap=75%\n"
     ]
    },
    {
     "name": "stderr",
     "output_type": "stream",
     "text": [
      "  down: 100%|█████████████████████████████████████████████████████████████████████| 2359/2359 [00:18<00:00, 124.59it/s]\n",
      "  go: 100%|███████████████████████████████████████████████████████████████████████| 2372/2372 [00:18<00:00, 128.11it/s]\n",
      "  left: 100%|█████████████████████████████████████████████████████████████████████| 2353/2353 [00:18<00:00, 128.48it/s]\n",
      "  no: 100%|███████████████████████████████████████████████████████████████████████| 2375/2375 [00:19<00:00, 124.78it/s]\n",
      "  off: 100%|██████████████████████████████████████████████████████████████████████| 2357/2357 [00:18<00:00, 128.12it/s]\n",
      "  on: 100%|███████████████████████████████████████████████████████████████████████| 2367/2367 [00:18<00:00, 129.22it/s]\n",
      "  right: 100%|████████████████████████████████████████████████████████████████████| 2367/2367 [00:18<00:00, 124.62it/s]\n",
      "  stop: 100%|█████████████████████████████████████████████████████████████████████| 2380/2380 [00:19<00:00, 121.28it/s]\n",
      "  up: 100%|███████████████████████████████████████████████████████████████████████| 2375/2375 [00:20<00:00, 115.18it/s]\n",
      "  yes: 100%|██████████████████████████████████████████████████████████████████████| 2377/2377 [00:18<00:00, 126.61it/s]\n"
     ]
    },
    {
     "name": "stdout",
     "output_type": "stream",
     "text": [
      "Processing Mel: win=60ms, overlap=0%\n"
     ]
    },
    {
     "name": "stderr",
     "output_type": "stream",
     "text": [
      "  down: 100%|█████████████████████████████████████████████████████████████████████| 2359/2359 [00:15<00:00, 155.47it/s]\n",
      "  go: 100%|███████████████████████████████████████████████████████████████████████| 2372/2372 [00:15<00:00, 149.02it/s]\n",
      "  left: 100%|█████████████████████████████████████████████████████████████████████| 2353/2353 [00:14<00:00, 162.01it/s]\n",
      "  no: 100%|███████████████████████████████████████████████████████████████████████| 2375/2375 [00:15<00:00, 150.64it/s]\n",
      "  off: 100%|██████████████████████████████████████████████████████████████████████| 2357/2357 [00:15<00:00, 156.67it/s]\n",
      "  on: 100%|███████████████████████████████████████████████████████████████████████| 2367/2367 [00:15<00:00, 152.97it/s]\n",
      "  right: 100%|████████████████████████████████████████████████████████████████████| 2367/2367 [00:15<00:00, 152.52it/s]\n",
      "  stop: 100%|█████████████████████████████████████████████████████████████████████| 2380/2380 [00:14<00:00, 161.82it/s]\n",
      "  up: 100%|███████████████████████████████████████████████████████████████████████| 2375/2375 [00:14<00:00, 162.91it/s]\n",
      "  yes: 100%|██████████████████████████████████████████████████████████████████████| 2377/2377 [00:14<00:00, 169.51it/s]\n"
     ]
    },
    {
     "name": "stdout",
     "output_type": "stream",
     "text": [
      "Processing Mel: win=60ms, overlap=25%\n"
     ]
    },
    {
     "name": "stderr",
     "output_type": "stream",
     "text": [
      "  down: 100%|█████████████████████████████████████████████████████████████████████| 2359/2359 [00:14<00:00, 167.50it/s]\n",
      "  go: 100%|███████████████████████████████████████████████████████████████████████| 2372/2372 [00:14<00:00, 158.21it/s]\n",
      "  left: 100%|█████████████████████████████████████████████████████████████████████| 2353/2353 [00:14<00:00, 165.38it/s]\n",
      "  no: 100%|███████████████████████████████████████████████████████████████████████| 2375/2375 [00:16<00:00, 142.80it/s]\n",
      "  off: 100%|██████████████████████████████████████████████████████████████████████| 2357/2357 [00:15<00:00, 156.26it/s]\n",
      "  on: 100%|███████████████████████████████████████████████████████████████████████| 2367/2367 [00:14<00:00, 163.97it/s]\n",
      "  right: 100%|████████████████████████████████████████████████████████████████████| 2367/2367 [00:14<00:00, 168.53it/s]\n",
      "  stop: 100%|█████████████████████████████████████████████████████████████████████| 2380/2380 [00:15<00:00, 156.82it/s]\n",
      "  up: 100%|███████████████████████████████████████████████████████████████████████| 2375/2375 [00:14<00:00, 165.32it/s]\n",
      "  yes: 100%|██████████████████████████████████████████████████████████████████████| 2377/2377 [00:13<00:00, 171.38it/s]\n"
     ]
    },
    {
     "name": "stdout",
     "output_type": "stream",
     "text": [
      "Processing Mel: win=60ms, overlap=50%\n"
     ]
    },
    {
     "name": "stderr",
     "output_type": "stream",
     "text": [
      "  down: 100%|█████████████████████████████████████████████████████████████████████| 2359/2359 [00:21<00:00, 110.01it/s]\n",
      "  go: 100%|███████████████████████████████████████████████████████████████████████| 2372/2372 [00:17<00:00, 131.98it/s]\n",
      "  left: 100%|█████████████████████████████████████████████████████████████████████| 2353/2353 [00:17<00:00, 137.37it/s]\n",
      "  no: 100%|███████████████████████████████████████████████████████████████████████| 2375/2375 [00:16<00:00, 142.64it/s]\n",
      "  off: 100%|██████████████████████████████████████████████████████████████████████| 2357/2357 [00:16<00:00, 140.55it/s]\n",
      "  on: 100%|███████████████████████████████████████████████████████████████████████| 2367/2367 [00:16<00:00, 143.42it/s]\n",
      "  right: 100%|████████████████████████████████████████████████████████████████████| 2367/2367 [00:15<00:00, 149.75it/s]\n",
      "  stop: 100%|█████████████████████████████████████████████████████████████████████| 2380/2380 [00:17<00:00, 138.08it/s]\n",
      "  up: 100%|███████████████████████████████████████████████████████████████████████| 2375/2375 [00:17<00:00, 136.92it/s]\n",
      "  yes: 100%|██████████████████████████████████████████████████████████████████████| 2377/2377 [00:16<00:00, 141.85it/s]\n"
     ]
    },
    {
     "name": "stdout",
     "output_type": "stream",
     "text": [
      "Processing Mel: win=60ms, overlap=75%\n"
     ]
    },
    {
     "name": "stderr",
     "output_type": "stream",
     "text": [
      "  down: 100%|█████████████████████████████████████████████████████████████████████| 2359/2359 [00:18<00:00, 129.07it/s]\n",
      "  go: 100%|███████████████████████████████████████████████████████████████████████| 2372/2372 [00:18<00:00, 128.65it/s]\n",
      "  left: 100%|█████████████████████████████████████████████████████████████████████| 2353/2353 [00:18<00:00, 130.23it/s]\n",
      "  no: 100%|███████████████████████████████████████████████████████████████████████| 2375/2375 [00:18<00:00, 126.59it/s]\n",
      "  off: 100%|██████████████████████████████████████████████████████████████████████| 2357/2357 [00:18<00:00, 125.34it/s]\n",
      "  on: 100%|███████████████████████████████████████████████████████████████████████| 2367/2367 [00:18<00:00, 131.26it/s]\n",
      "  right: 100%|█████████████████████████████████████████████████████████████████████| 2367/2367 [00:24<00:00, 96.58it/s]\n",
      "  stop: 100%|██████████████████████████████████████████████████████████████████████| 2380/2380 [00:39<00:00, 59.66it/s]\n",
      "  up: 100%|███████████████████████████████████████████████████████████████████████| 2375/2375 [00:20<00:00, 115.74it/s]\n",
      "  yes: 100%|██████████████████████████████████████████████████████████████████████| 2377/2377 [00:18<00:00, 128.01it/s]\n"
     ]
    },
    {
     "name": "stdout",
     "output_type": "stream",
     "text": [
      "Processing Mel: win=70ms, overlap=0%\n"
     ]
    },
    {
     "name": "stderr",
     "output_type": "stream",
     "text": [
      "  down: 100%|█████████████████████████████████████████████████████████████████████| 2359/2359 [00:17<00:00, 133.99it/s]\n",
      "  go: 100%|███████████████████████████████████████████████████████████████████████| 2372/2372 [00:17<00:00, 134.26it/s]\n",
      "  left: 100%|█████████████████████████████████████████████████████████████████████| 2353/2353 [00:18<00:00, 123.89it/s]\n",
      "  no: 100%|████████████████████████████████████████████████████████████████████████| 2375/2375 [00:27<00:00, 85.47it/s]\n",
      "  off: 100%|██████████████████████████████████████████████████████████████████████| 2357/2357 [00:16<00:00, 142.77it/s]\n",
      "  on: 100%|███████████████████████████████████████████████████████████████████████| 2367/2367 [00:17<00:00, 138.83it/s]\n",
      "  right: 100%|████████████████████████████████████████████████████████████████████| 2367/2367 [00:17<00:00, 136.26it/s]\n",
      "  stop: 100%|█████████████████████████████████████████████████████████████████████| 2380/2380 [00:18<00:00, 129.20it/s]\n",
      "  up: 100%|███████████████████████████████████████████████████████████████████████| 2375/2375 [00:16<00:00, 143.94it/s]\n",
      "  yes: 100%|██████████████████████████████████████████████████████████████████████| 2377/2377 [00:16<00:00, 148.16it/s]\n"
     ]
    },
    {
     "name": "stdout",
     "output_type": "stream",
     "text": [
      "Processing Mel: win=70ms, overlap=25%\n"
     ]
    },
    {
     "name": "stderr",
     "output_type": "stream",
     "text": [
      "  down: 100%|█████████████████████████████████████████████████████████████████████| 2359/2359 [00:16<00:00, 140.11it/s]\n",
      "  go: 100%|███████████████████████████████████████████████████████████████████████| 2372/2372 [00:17<00:00, 133.77it/s]\n",
      "  left: 100%|█████████████████████████████████████████████████████████████████████| 2353/2353 [00:17<00:00, 135.91it/s]\n",
      "  no: 100%|███████████████████████████████████████████████████████████████████████| 2375/2375 [00:21<00:00, 111.63it/s]\n",
      "  off: 100%|██████████████████████████████████████████████████████████████████████| 2357/2357 [00:16<00:00, 145.39it/s]\n",
      "  on: 100%|███████████████████████████████████████████████████████████████████████| 2367/2367 [00:16<00:00, 141.68it/s]\n",
      "  right: 100%|████████████████████████████████████████████████████████████████████| 2367/2367 [00:17<00:00, 134.36it/s]\n",
      "  stop: 100%|█████████████████████████████████████████████████████████████████████| 2380/2380 [00:17<00:00, 139.08it/s]\n",
      "  up: 100%|███████████████████████████████████████████████████████████████████████| 2375/2375 [00:17<00:00, 133.03it/s]\n",
      "  yes: 100%|██████████████████████████████████████████████████████████████████████| 2377/2377 [00:18<00:00, 129.23it/s]\n"
     ]
    },
    {
     "name": "stdout",
     "output_type": "stream",
     "text": [
      "Processing Mel: win=70ms, overlap=50%\n"
     ]
    },
    {
     "name": "stderr",
     "output_type": "stream",
     "text": [
      "  down: 100%|█████████████████████████████████████████████████████████████████████| 2359/2359 [00:18<00:00, 127.50it/s]\n",
      "  go: 100%|███████████████████████████████████████████████████████████████████████| 2372/2372 [00:18<00:00, 125.30it/s]\n",
      "  left: 100%|█████████████████████████████████████████████████████████████████████| 2353/2353 [00:18<00:00, 126.78it/s]\n",
      "  no: 100%|███████████████████████████████████████████████████████████████████████| 2375/2375 [00:19<00:00, 123.62it/s]\n",
      "  off: 100%|██████████████████████████████████████████████████████████████████████| 2357/2357 [00:18<00:00, 127.17it/s]\n",
      "  on: 100%|███████████████████████████████████████████████████████████████████████| 2367/2367 [00:19<00:00, 122.43it/s]\n",
      "  right: 100%|████████████████████████████████████████████████████████████████████| 2367/2367 [00:19<00:00, 121.00it/s]\n",
      "  stop: 100%|█████████████████████████████████████████████████████████████████████| 2380/2380 [00:18<00:00, 131.32it/s]\n",
      "  up: 100%|███████████████████████████████████████████████████████████████████████| 2375/2375 [00:18<00:00, 125.60it/s]\n",
      "  yes: 100%|██████████████████████████████████████████████████████████████████████| 2377/2377 [00:15<00:00, 153.61it/s]\n"
     ]
    },
    {
     "name": "stdout",
     "output_type": "stream",
     "text": [
      "Processing Mel: win=70ms, overlap=75%\n"
     ]
    },
    {
     "name": "stderr",
     "output_type": "stream",
     "text": [
      "  down: 100%|█████████████████████████████████████████████████████████████████████| 2359/2359 [00:16<00:00, 145.19it/s]\n",
      "  go: 100%|███████████████████████████████████████████████████████████████████████| 2372/2372 [00:17<00:00, 134.10it/s]\n",
      "  left: 100%|█████████████████████████████████████████████████████████████████████| 2353/2353 [00:18<00:00, 128.35it/s]\n",
      "  no: 100%|███████████████████████████████████████████████████████████████████████| 2375/2375 [00:19<00:00, 123.64it/s]\n",
      "  off: 100%|██████████████████████████████████████████████████████████████████████| 2357/2357 [00:18<00:00, 129.38it/s]\n",
      "  on: 100%|███████████████████████████████████████████████████████████████████████| 2367/2367 [00:18<00:00, 128.89it/s]\n",
      "  right: 100%|████████████████████████████████████████████████████████████████████| 2367/2367 [00:18<00:00, 127.67it/s]\n",
      "  stop: 100%|█████████████████████████████████████████████████████████████████████| 2380/2380 [00:18<00:00, 126.77it/s]\n",
      "  up: 100%|███████████████████████████████████████████████████████████████████████| 2375/2375 [00:18<00:00, 127.14it/s]\n",
      "  yes: 100%|██████████████████████████████████████████████████████████████████████| 2377/2377 [00:18<00:00, 129.07it/s]\n"
     ]
    },
    {
     "name": "stdout",
     "output_type": "stream",
     "text": [
      "Processing Mel: win=80ms, overlap=0%\n"
     ]
    },
    {
     "name": "stderr",
     "output_type": "stream",
     "text": [
      "  down: 100%|█████████████████████████████████████████████████████████████████████| 2359/2359 [00:16<00:00, 139.81it/s]\n",
      "  go: 100%|███████████████████████████████████████████████████████████████████████| 2372/2372 [00:15<00:00, 151.20it/s]\n",
      "  left: 100%|█████████████████████████████████████████████████████████████████████| 2353/2353 [00:14<00:00, 162.74it/s]\n",
      "  no: 100%|███████████████████████████████████████████████████████████████████████| 2375/2375 [00:13<00:00, 175.19it/s]\n",
      "  off: 100%|██████████████████████████████████████████████████████████████████████| 2357/2357 [00:12<00:00, 182.32it/s]\n",
      "  on: 100%|███████████████████████████████████████████████████████████████████████| 2367/2367 [00:12<00:00, 186.32it/s]\n",
      "  right: 100%|████████████████████████████████████████████████████████████████████| 2367/2367 [00:12<00:00, 183.75it/s]\n",
      "  stop: 100%|█████████████████████████████████████████████████████████████████████| 2380/2380 [00:14<00:00, 164.37it/s]\n",
      "  up: 100%|███████████████████████████████████████████████████████████████████████| 2375/2375 [00:16<00:00, 147.65it/s]\n",
      "  yes: 100%|██████████████████████████████████████████████████████████████████████| 2377/2377 [00:13<00:00, 171.66it/s]\n"
     ]
    },
    {
     "name": "stdout",
     "output_type": "stream",
     "text": [
      "Processing Mel: win=80ms, overlap=25%\n"
     ]
    },
    {
     "name": "stderr",
     "output_type": "stream",
     "text": [
      "  down: 100%|█████████████████████████████████████████████████████████████████████| 2359/2359 [00:13<00:00, 169.01it/s]\n",
      "  go: 100%|███████████████████████████████████████████████████████████████████████| 2372/2372 [00:14<00:00, 158.32it/s]\n",
      "  left: 100%|█████████████████████████████████████████████████████████████████████| 2353/2353 [00:15<00:00, 151.50it/s]\n",
      "  no: 100%|███████████████████████████████████████████████████████████████████████| 2375/2375 [00:14<00:00, 168.27it/s]\n",
      "  off: 100%|██████████████████████████████████████████████████████████████████████| 2357/2357 [00:14<00:00, 162.52it/s]\n",
      "  on: 100%|███████████████████████████████████████████████████████████████████████| 2367/2367 [00:14<00:00, 160.64it/s]\n",
      "  right: 100%|████████████████████████████████████████████████████████████████████| 2367/2367 [00:14<00:00, 163.72it/s]\n",
      "  stop: 100%|█████████████████████████████████████████████████████████████████████| 2380/2380 [00:14<00:00, 162.21it/s]\n",
      "  up: 100%|███████████████████████████████████████████████████████████████████████| 2375/2375 [00:15<00:00, 156.92it/s]\n",
      "  yes: 100%|██████████████████████████████████████████████████████████████████████| 2377/2377 [00:12<00:00, 186.38it/s]\n"
     ]
    },
    {
     "name": "stdout",
     "output_type": "stream",
     "text": [
      "Processing Mel: win=80ms, overlap=50%\n"
     ]
    },
    {
     "name": "stderr",
     "output_type": "stream",
     "text": [
      "  down: 100%|█████████████████████████████████████████████████████████████████████| 2359/2359 [00:14<00:00, 160.71it/s]\n",
      "  go: 100%|███████████████████████████████████████████████████████████████████████| 2372/2372 [00:14<00:00, 166.77it/s]\n",
      "  left: 100%|█████████████████████████████████████████████████████████████████████| 2353/2353 [00:14<00:00, 165.19it/s]\n",
      "  no: 100%|███████████████████████████████████████████████████████████████████████| 2375/2375 [00:14<00:00, 163.47it/s]\n",
      "  off: 100%|██████████████████████████████████████████████████████████████████████| 2357/2357 [00:14<00:00, 161.06it/s]\n",
      "  on: 100%|███████████████████████████████████████████████████████████████████████| 2367/2367 [00:14<00:00, 168.82it/s]\n",
      "  right: 100%|████████████████████████████████████████████████████████████████████| 2367/2367 [00:14<00:00, 163.72it/s]\n",
      "  stop: 100%|█████████████████████████████████████████████████████████████████████| 2380/2380 [00:14<00:00, 168.80it/s]\n",
      "  up: 100%|███████████████████████████████████████████████████████████████████████| 2375/2375 [00:14<00:00, 165.12it/s]\n",
      "  yes: 100%|██████████████████████████████████████████████████████████████████████| 2377/2377 [00:14<00:00, 165.64it/s]\n"
     ]
    },
    {
     "name": "stdout",
     "output_type": "stream",
     "text": [
      "Processing Mel: win=80ms, overlap=75%\n"
     ]
    },
    {
     "name": "stderr",
     "output_type": "stream",
     "text": [
      "  down: 100%|█████████████████████████████████████████████████████████████████████| 2359/2359 [00:17<00:00, 133.33it/s]\n",
      "  go: 100%|███████████████████████████████████████████████████████████████████████| 2372/2372 [00:19<00:00, 122.57it/s]\n",
      "  left: 100%|█████████████████████████████████████████████████████████████████████| 2353/2353 [00:19<00:00, 120.25it/s]\n",
      "  no: 100%|███████████████████████████████████████████████████████████████████████| 2375/2375 [00:19<00:00, 118.91it/s]\n",
      "  off: 100%|██████████████████████████████████████████████████████████████████████| 2357/2357 [00:20<00:00, 116.81it/s]\n",
      "  on: 100%|███████████████████████████████████████████████████████████████████████| 2367/2367 [00:18<00:00, 126.72it/s]\n",
      "  right: 100%|████████████████████████████████████████████████████████████████████| 2367/2367 [00:18<00:00, 126.62it/s]\n",
      "  stop: 100%|█████████████████████████████████████████████████████████████████████| 2380/2380 [00:19<00:00, 124.62it/s]\n",
      "  up: 100%|███████████████████████████████████████████████████████████████████████| 2375/2375 [00:19<00:00, 124.50it/s]\n",
      "  yes: 100%|██████████████████████████████████████████████████████████████████████| 2377/2377 [00:18<00:00, 127.44it/s]\n"
     ]
    },
    {
     "name": "stdout",
     "output_type": "stream",
     "text": [
      "Processing Mel: win=90ms, overlap=0%\n"
     ]
    },
    {
     "name": "stderr",
     "output_type": "stream",
     "text": [
      "  down: 100%|█████████████████████████████████████████████████████████████████████| 2359/2359 [00:14<00:00, 158.76it/s]\n",
      "  go: 100%|███████████████████████████████████████████████████████████████████████| 2372/2372 [00:14<00:00, 162.62it/s]\n",
      "  left: 100%|█████████████████████████████████████████████████████████████████████| 2353/2353 [00:14<00:00, 166.08it/s]\n",
      "  no: 100%|███████████████████████████████████████████████████████████████████████| 2375/2375 [00:14<00:00, 168.69it/s]\n",
      "  off: 100%|██████████████████████████████████████████████████████████████████████| 2357/2357 [00:14<00:00, 163.84it/s]\n",
      "  on: 100%|███████████████████████████████████████████████████████████████████████| 2367/2367 [00:14<00:00, 165.27it/s]\n",
      "  right: 100%|████████████████████████████████████████████████████████████████████| 2367/2367 [00:14<00:00, 165.56it/s]\n",
      "  stop: 100%|█████████████████████████████████████████████████████████████████████| 2380/2380 [00:14<00:00, 168.45it/s]\n",
      "  up: 100%|███████████████████████████████████████████████████████████████████████| 2375/2375 [00:14<00:00, 160.90it/s]\n",
      "  yes: 100%|██████████████████████████████████████████████████████████████████████| 2377/2377 [00:14<00:00, 163.28it/s]\n"
     ]
    },
    {
     "name": "stdout",
     "output_type": "stream",
     "text": [
      "Processing Mel: win=90ms, overlap=25%\n"
     ]
    },
    {
     "name": "stderr",
     "output_type": "stream",
     "text": [
      "  down: 100%|█████████████████████████████████████████████████████████████████████| 2359/2359 [00:13<00:00, 170.83it/s]\n",
      "  go: 100%|███████████████████████████████████████████████████████████████████████| 2372/2372 [00:13<00:00, 176.65it/s]\n",
      "  left: 100%|█████████████████████████████████████████████████████████████████████| 2353/2353 [00:14<00:00, 161.67it/s]\n",
      "  no: 100%|███████████████████████████████████████████████████████████████████████| 2375/2375 [00:15<00:00, 158.01it/s]\n",
      "  off: 100%|██████████████████████████████████████████████████████████████████████| 2357/2357 [00:15<00:00, 151.46it/s]\n",
      "  on: 100%|███████████████████████████████████████████████████████████████████████| 2367/2367 [00:15<00:00, 156.61it/s]\n",
      "  right: 100%|████████████████████████████████████████████████████████████████████| 2367/2367 [00:15<00:00, 157.34it/s]\n",
      "  stop: 100%|█████████████████████████████████████████████████████████████████████| 2380/2380 [00:14<00:00, 158.75it/s]\n",
      "  up: 100%|███████████████████████████████████████████████████████████████████████| 2375/2375 [00:15<00:00, 157.53it/s]\n",
      "  yes: 100%|██████████████████████████████████████████████████████████████████████| 2377/2377 [00:14<00:00, 161.96it/s]\n"
     ]
    },
    {
     "name": "stdout",
     "output_type": "stream",
     "text": [
      "Processing Mel: win=90ms, overlap=50%\n"
     ]
    },
    {
     "name": "stderr",
     "output_type": "stream",
     "text": [
      "  down: 100%|█████████████████████████████████████████████████████████████████████| 2359/2359 [00:14<00:00, 157.65it/s]\n",
      "  go: 100%|███████████████████████████████████████████████████████████████████████| 2372/2372 [00:14<00:00, 159.07it/s]\n",
      "  left: 100%|█████████████████████████████████████████████████████████████████████| 2353/2353 [00:14<00:00, 158.90it/s]\n",
      "  no: 100%|███████████████████████████████████████████████████████████████████████| 2375/2375 [00:15<00:00, 156.18it/s]\n",
      "  off: 100%|██████████████████████████████████████████████████████████████████████| 2357/2357 [00:15<00:00, 155.45it/s]\n",
      "  on: 100%|███████████████████████████████████████████████████████████████████████| 2367/2367 [00:15<00:00, 150.76it/s]\n",
      "  right: 100%|████████████████████████████████████████████████████████████████████| 2367/2367 [00:15<00:00, 151.54it/s]\n",
      "  stop: 100%|█████████████████████████████████████████████████████████████████████| 2380/2380 [00:15<00:00, 157.46it/s]\n",
      "  up: 100%|███████████████████████████████████████████████████████████████████████| 2375/2375 [00:15<00:00, 152.58it/s]\n",
      "  yes: 100%|██████████████████████████████████████████████████████████████████████| 2377/2377 [00:15<00:00, 152.38it/s]\n"
     ]
    },
    {
     "name": "stdout",
     "output_type": "stream",
     "text": [
      "Processing Mel: win=90ms, overlap=75%\n"
     ]
    },
    {
     "name": "stderr",
     "output_type": "stream",
     "text": [
      "  down: 100%|█████████████████████████████████████████████████████████████████████| 2359/2359 [00:17<00:00, 136.66it/s]\n",
      "  go: 100%|███████████████████████████████████████████████████████████████████████| 2372/2372 [00:17<00:00, 136.71it/s]\n",
      "  left: 100%|█████████████████████████████████████████████████████████████████████| 2353/2353 [00:17<00:00, 131.18it/s]\n",
      "  no: 100%|███████████████████████████████████████████████████████████████████████| 2375/2375 [00:17<00:00, 134.19it/s]\n",
      "  off: 100%|██████████████████████████████████████████████████████████████████████| 2357/2357 [00:17<00:00, 136.32it/s]\n",
      "  on: 100%|███████████████████████████████████████████████████████████████████████| 2367/2367 [00:18<00:00, 130.99it/s]\n",
      "  right: 100%|████████████████████████████████████████████████████████████████████| 2367/2367 [00:16<00:00, 139.28it/s]\n",
      "  stop: 100%|█████████████████████████████████████████████████████████████████████| 2380/2380 [00:16<00:00, 144.50it/s]\n",
      "  up: 100%|███████████████████████████████████████████████████████████████████████| 2375/2375 [00:14<00:00, 159.21it/s]\n",
      "  yes: 100%|██████████████████████████████████████████████████████████████████████| 2377/2377 [00:16<00:00, 142.64it/s]\n"
     ]
    },
    {
     "name": "stdout",
     "output_type": "stream",
     "text": [
      "Processing Mel: win=100ms, overlap=0%\n"
     ]
    },
    {
     "name": "stderr",
     "output_type": "stream",
     "text": [
      "  down: 100%|█████████████████████████████████████████████████████████████████████| 2359/2359 [00:13<00:00, 177.47it/s]\n",
      "  go: 100%|███████████████████████████████████████████████████████████████████████| 2372/2372 [00:14<00:00, 168.03it/s]\n",
      "  left: 100%|█████████████████████████████████████████████████████████████████████| 2353/2353 [00:12<00:00, 185.50it/s]\n",
      "  no: 100%|███████████████████████████████████████████████████████████████████████| 2375/2375 [00:12<00:00, 197.37it/s]\n",
      "  off: 100%|██████████████████████████████████████████████████████████████████████| 2357/2357 [00:12<00:00, 194.92it/s]\n",
      "  on: 100%|███████████████████████████████████████████████████████████████████████| 2367/2367 [00:12<00:00, 194.71it/s]\n",
      "  right: 100%|████████████████████████████████████████████████████████████████████| 2367/2367 [00:12<00:00, 192.97it/s]\n",
      "  stop: 100%|█████████████████████████████████████████████████████████████████████| 2380/2380 [00:12<00:00, 196.57it/s]\n",
      "  up: 100%|███████████████████████████████████████████████████████████████████████| 2375/2375 [00:13<00:00, 171.89it/s]\n",
      "  yes: 100%|██████████████████████████████████████████████████████████████████████| 2377/2377 [00:12<00:00, 185.76it/s]\n"
     ]
    },
    {
     "name": "stdout",
     "output_type": "stream",
     "text": [
      "Processing Mel: win=100ms, overlap=25%\n"
     ]
    },
    {
     "name": "stderr",
     "output_type": "stream",
     "text": [
      "  down: 100%|█████████████████████████████████████████████████████████████████████| 2359/2359 [00:13<00:00, 170.71it/s]\n",
      "  go: 100%|███████████████████████████████████████████████████████████████████████| 2372/2372 [00:15<00:00, 157.22it/s]\n",
      "  left: 100%|█████████████████████████████████████████████████████████████████████| 2353/2353 [00:13<00:00, 174.01it/s]\n",
      "  no: 100%|███████████████████████████████████████████████████████████████████████| 2375/2375 [00:13<00:00, 171.22it/s]\n",
      "  off: 100%|██████████████████████████████████████████████████████████████████████| 2357/2357 [00:14<00:00, 166.07it/s]\n",
      "  on: 100%|███████████████████████████████████████████████████████████████████████| 2367/2367 [00:14<00:00, 161.90it/s]\n",
      "  right: 100%|████████████████████████████████████████████████████████████████████| 2367/2367 [00:14<00:00, 168.20it/s]\n",
      "  stop: 100%|█████████████████████████████████████████████████████████████████████| 2380/2380 [00:15<00:00, 156.85it/s]\n",
      "  up: 100%|███████████████████████████████████████████████████████████████████████| 2375/2375 [00:15<00:00, 152.64it/s]\n",
      "  yes: 100%|██████████████████████████████████████████████████████████████████████| 2377/2377 [00:14<00:00, 169.64it/s]\n"
     ]
    },
    {
     "name": "stdout",
     "output_type": "stream",
     "text": [
      "Processing Mel: win=100ms, overlap=50%\n"
     ]
    },
    {
     "name": "stderr",
     "output_type": "stream",
     "text": [
      "  down: 100%|█████████████████████████████████████████████████████████████████████| 2359/2359 [00:14<00:00, 158.30it/s]\n",
      "  go: 100%|███████████████████████████████████████████████████████████████████████| 2372/2372 [00:14<00:00, 164.33it/s]\n",
      "  left: 100%|█████████████████████████████████████████████████████████████████████| 2353/2353 [00:14<00:00, 160.97it/s]\n",
      "  no: 100%|███████████████████████████████████████████████████████████████████████| 2375/2375 [00:15<00:00, 149.25it/s]\n",
      "  off: 100%|██████████████████████████████████████████████████████████████████████| 2357/2357 [00:15<00:00, 150.36it/s]\n",
      "  on: 100%|███████████████████████████████████████████████████████████████████████| 2367/2367 [00:14<00:00, 158.36it/s]\n",
      "  right: 100%|████████████████████████████████████████████████████████████████████| 2367/2367 [00:14<00:00, 158.32it/s]\n",
      "  stop: 100%|█████████████████████████████████████████████████████████████████████| 2380/2380 [00:15<00:00, 157.47it/s]\n",
      "  up: 100%|███████████████████████████████████████████████████████████████████████| 2375/2375 [00:15<00:00, 157.06it/s]\n",
      "  yes: 100%|██████████████████████████████████████████████████████████████████████| 2377/2377 [00:14<00:00, 159.54it/s]\n"
     ]
    },
    {
     "name": "stdout",
     "output_type": "stream",
     "text": [
      "Processing Mel: win=100ms, overlap=75%\n"
     ]
    },
    {
     "name": "stderr",
     "output_type": "stream",
     "text": [
      "  down: 100%|█████████████████████████████████████████████████████████████████████| 2359/2359 [00:16<00:00, 141.03it/s]\n",
      "  go: 100%|███████████████████████████████████████████████████████████████████████| 2372/2372 [00:16<00:00, 141.23it/s]\n",
      "  left: 100%|█████████████████████████████████████████████████████████████████████| 2353/2353 [00:16<00:00, 139.18it/s]\n",
      "  no: 100%|███████████████████████████████████████████████████████████████████████| 2375/2375 [00:17<00:00, 132.72it/s]\n",
      "  off: 100%|██████████████████████████████████████████████████████████████████████| 2357/2357 [00:17<00:00, 133.59it/s]\n",
      "  on: 100%|███████████████████████████████████████████████████████████████████████| 2367/2367 [00:16<00:00, 139.27it/s]\n",
      "  right: 100%|████████████████████████████████████████████████████████████████████| 2367/2367 [00:17<00:00, 136.50it/s]\n",
      "  stop: 100%|█████████████████████████████████████████████████████████████████████| 2380/2380 [00:17<00:00, 135.86it/s]\n",
      "  up: 100%|███████████████████████████████████████████████████████████████████████| 2375/2375 [00:17<00:00, 135.14it/s]\n",
      "  yes: 100%|██████████████████████████████████████████████████████████████████████| 2377/2377 [00:17<00:00, 135.71it/s]\n"
     ]
    }
   ],
   "source": [
    "import librosa\n",
    "import numpy as np\n",
    "import os\n",
    "from tqdm import tqdm\n",
    "\n",
    "# Parameters\n",
    "input_dir = \"data_clean\"\n",
    "output_base = \"features_mel\"\n",
    "window_lengths_ms = list(range(10, 101, 10))\n",
    "overlap_percents = [0.0, 0.25, 0.5, 0.75]\n",
    "sr = 16000\n",
    "n_mels = 40  # Number of mel bands\n",
    "\n",
    "def ms_to_samples(ms, sr=16000):\n",
    "    return int((ms / 1000) * sr)\n",
    "\n",
    "def extract_mel(y, sr, win_ms, overlap):\n",
    "    win_length = ms_to_samples(win_ms, sr)\n",
    "    hop_length = max(1, int(win_length * (1 - overlap)))\n",
    "    n_fft = 2 ** (win_length - 1).bit_length()\n",
    "\n",
    "    if win_length > n_fft:\n",
    "        raise ValueError(f\"Window length {win_length} > n_fft {n_fft}\")\n",
    "\n",
    "    mel = librosa.feature.melspectrogram(y=y, sr=sr, n_fft=n_fft,\n",
    "                                         hop_length=hop_length,\n",
    "                                         win_length=win_length,\n",
    "                                         n_mels=n_mels)\n",
    "    mel_db = librosa.power_to_db(mel, ref=np.max)\n",
    "    return mel_db\n",
    "\n",
    "# Loop over files and extract mel spectrograms\n",
    "for win_ms in window_lengths_ms:\n",
    "    for overlap in overlap_percents:\n",
    "        print(f\"Processing Mel: win={win_ms}ms, overlap={int(overlap*100)}%\")\n",
    "        output_dir = f\"{output_base}/win_{win_ms}/overlap_{int(overlap*100)}\"\n",
    "        os.makedirs(output_dir, exist_ok=True)\n",
    "\n",
    "        for label in os.listdir(input_dir):\n",
    "            label_path = os.path.join(input_dir, label)\n",
    "            if not os.path.isdir(label_path):\n",
    "                continue\n",
    "\n",
    "            out_label_path = os.path.join(output_dir, label)\n",
    "            os.makedirs(out_label_path, exist_ok=True)\n",
    "\n",
    "            for i, file in enumerate(tqdm(os.listdir(label_path), desc=f\"  {label}\")):\n",
    "                if file.endswith('.wav'):\n",
    "                    file_path = os.path.join(label_path, file)\n",
    "                    y, _ = librosa.load(file_path, sr=sr)\n",
    "                    try:\n",
    "                        mel = extract_mel(y, sr, win_ms, overlap)\n",
    "                        out_file = os.path.join(out_label_path, f\"{i:05}.npy\")\n",
    "                        np.save(out_file, mel)\n",
    "                    except Exception as e:\n",
    "                        print(f\"    Skipped {file}: {e}\")"
   ]
  },
  {
   "cell_type": "code",
   "execution_count": null,
   "id": "136fca96-5944-4d5e-9c70-634b46b15d9a",
   "metadata": {},
   "outputs": [],
   "source": []
  }
 ],
 "metadata": {
  "kernelspec": {
   "display_name": "Python 3 (ipykernel)",
   "language": "python",
   "name": "python3"
  },
  "language_info": {
   "codemirror_mode": {
    "name": "ipython",
    "version": 3
   },
   "file_extension": ".py",
   "mimetype": "text/x-python",
   "name": "python",
   "nbconvert_exporter": "python",
   "pygments_lexer": "ipython3",
   "version": "3.13.2"
  }
 },
 "nbformat": 4,
 "nbformat_minor": 5
}
